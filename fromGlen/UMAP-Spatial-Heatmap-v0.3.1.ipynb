{
 "cells": [
  {
   "cell_type": "markdown",
   "id": "20840a9b",
   "metadata": {},
   "source": [
    "# UMAP-Spatial-Heatmap v0.3.1"
   ]
  },
  {
   "cell_type": "code",
   "execution_count": null,
   "id": "02b03064",
   "metadata": {},
   "outputs": [],
   "source": [
    "%%capture\n",
    "import sys\n",
    "!{sys.executable} -m pip -q install scanpy\n",
    "!{sys.executable} -m pip -q install leidenalg\n",
    "!{sys.executable} -m pip -q install observable_jupyter\n",
    "!{sys.executable} -m pip -q install clustergrammer2\n",
    "!{sys.executable} -m pip -q install numpy==1.19.5\n",
    "\n",
    "import numpy as np\n",
    "import pandas as pd\n",
    "import scanpy as sc\n",
    "from matplotlib import pyplot as plt\n",
    "from observable_jupyter import embed\n",
    "from clustergrammer2 import net, Network, CGM2\n",
    "from copy import deepcopy\n",
    "import json\n",
    "import zlib, json, base64"
   ]
  },
  {
   "cell_type": "code",
   "execution_count": null,
   "id": "9bcd4073",
   "metadata": {},
   "outputs": [],
   "source": [
    "from IPython.core.display import display, HTML\n",
    "display(HTML(\"<style>.container { width:98% !important; maxHeight: 5000}</style>\"))"
   ]
  },
  {
   "cell_type": "code",
   "execution_count": null,
   "id": "6dbf1e35",
   "metadata": {},
   "outputs": [],
   "source": [
    "def json_zip(j):\n",
    "\n",
    "    zip_json_string = base64.b64encode(\n",
    "        zlib.compress(\n",
    "            json.dumps(j).encode('utf-8')\n",
    "        )\n",
    "    ).decode('ascii')\n",
    "\n",
    "    return zip_json_string"
   ]
  },
  {
   "cell_type": "markdown",
   "id": "2c7cfc4b",
   "metadata": {},
   "source": [
    "# Dataset Path"
   ]
  },
  {
   "cell_type": "code",
   "execution_count": null,
   "id": "ea73c12e",
   "metadata": {},
   "outputs": [],
   "source": [
    "# dataset_path = 's3://vz-analyzed-merfish/MsBrain_VS32_Brain8_YC_04-02-2022/'\n",
    "# dataset_path = 's3://vz-analyzed-merfish/MsBrain_VS32_Brain9_V1_YC_04-20-2022/'\n",
    "\n",
    "# latest dataset for Colles\n",
    "dataset_path = 's3://vz-analyzed-merfish/MsBrain_VS34_Brain2a_V6_YC_04-28-2022/'\n",
    "# dataset_path = 's3://vz-analyzed-merfish/MsBrain_VS32_Brain3_V6_YC_04-14-2022/'"
   ]
  },
  {
   "cell_type": "markdown",
   "id": "67f2d964",
   "metadata": {},
   "source": [
    "## Load Data\n",
    "Check that you have permissions to read directly from S3. If so run the commands below. If not load the data from EFS (after having copied it). "
   ]
  },
  {
   "cell_type": "code",
   "execution_count": null,
   "id": "db62aa7f",
   "metadata": {},
   "outputs": [],
   "source": [
    "!aws s3 ls {dataset_path}"
   ]
  },
  {
   "cell_type": "code",
   "execution_count": null,
   "id": "ec9e9523",
   "metadata": {},
   "outputs": [],
   "source": [
    "region_of_interest = 'region_1'"
   ]
  },
  {
   "cell_type": "code",
   "execution_count": null,
   "id": "6af25c09",
   "metadata": {},
   "outputs": [],
   "source": [
    "!aws s3 ls {dataset_path}ExportPartitionedBarcodes/{region_of_interest}/"
   ]
  },
  {
   "cell_type": "markdown",
   "id": "82e204f9",
   "metadata": {},
   "source": [
    "### Load Cell by Gene Matrix"
   ]
  },
  {
   "cell_type": "code",
   "execution_count": null,
   "id": "407d773d",
   "metadata": {},
   "outputs": [],
   "source": [
    "file_path = 'ExportPartitionedBarcodes/region_0/barcodes_per_feature.csv'\n",
    "cell_by_gene = pd.read_csv(dataset_path + file_path, index_col=0)\n",
    "cells = cell_by_gene.index.tolist()\n",
    "cell_by_gene.shape"
   ]
  },
  {
   "cell_type": "code",
   "execution_count": null,
   "id": "a97c5740",
   "metadata": {},
   "outputs": [],
   "source": [
    "keep_genes = [x for x in cell_by_gene.columns.tolist() if 'Blank' not in x]\n",
    "len(keep_genes)\n",
    "cell_by_gene = cell_by_gene[keep_genes]\n",
    "cell_by_gene.shape"
   ]
  },
  {
   "cell_type": "code",
   "execution_count": null,
   "id": "880f4732",
   "metadata": {},
   "outputs": [],
   "source": [
    "cell_by_gene.index = range(len(cell_by_gene.index.tolist()))\n",
    "gex_int = cell_by_gene.astype(np.int)\n",
    "gex_int"
   ]
  },
  {
   "cell_type": "markdown",
   "id": "b3cf5134",
   "metadata": {},
   "source": [
    "### Compressed Sparse GEX"
   ]
  },
  {
   "cell_type": "code",
   "execution_count": null,
   "id": "83c2c48e",
   "metadata": {},
   "outputs": [],
   "source": [
    "gex_dict = {}\n",
    "for inst_gene in gex_int.columns.tolist():\n",
    "    if 'Blank' not in inst_gene:\n",
    "        ser_gene = gex_int[inst_gene]\n",
    "        ser_gene = ser_gene[ser_gene > 0]\n",
    "        ser_gene = ser_gene.astype(np.int8)    \n",
    "        gex_dict[inst_gene] = ser_gene.to_dict()"
   ]
  },
  {
   "cell_type": "markdown",
   "id": "fd3e258e",
   "metadata": {},
   "source": [
    "### Load Cell Metadata"
   ]
  },
  {
   "cell_type": "code",
   "execution_count": null,
   "id": "9889ad7a",
   "metadata": {},
   "outputs": [],
   "source": [
    "!aws s3 ls {dataset_path}ExportCellMetadata/region_0/feature_metadata.csv"
   ]
  },
  {
   "cell_type": "code",
   "execution_count": null,
   "id": "e6bb9387",
   "metadata": {},
   "outputs": [],
   "source": [
    "file_path = 'ExportCellMetadata/region_0/feature_metadata.csv'\n",
    "meta_cell = pd.read_csv(dataset_path + file_path, index_col=0)\n",
    "meta_cell = meta_cell.loc[cells]\n",
    "meta_cell.index = range(len(meta_cell.index.tolist()))\n",
    "\n",
    "# add barcode count to metadata\n",
    "meta_cell['barcodeCount'] = cell_by_gene.sum(axis=1)\n",
    "\n",
    "# initialize meta_gene\n",
    "meta_gene = pd.DataFrame(index=cell_by_gene.columns.tolist())\n",
    "\n",
    "meta_cell.shape"
   ]
  },
  {
   "cell_type": "code",
   "execution_count": null,
   "id": "34804d5d",
   "metadata": {},
   "outputs": [],
   "source": [
    "meta_cell.head()"
   ]
  },
  {
   "cell_type": "code",
   "execution_count": null,
   "id": "b6a2f17f",
   "metadata": {},
   "outputs": [],
   "source": [
    "meta_cell.volume.hist(bins=100, range=[0,500])"
   ]
  },
  {
   "cell_type": "code",
   "execution_count": null,
   "id": "22fbe41f",
   "metadata": {},
   "outputs": [],
   "source": [
    "min_barcode = 5\n",
    "mean_barcodes = meta_cell[meta_cell.barcodeCount >= min_barcode].barcodeCount.mean()\n",
    "print(mean_barcodes)\n",
    "\n",
    "meta_cell.barcodeCount.hist(bins=100, range=[0,100])"
   ]
  },
  {
   "cell_type": "markdown",
   "id": "76986dde",
   "metadata": {},
   "source": [
    "### Filter Cells"
   ]
  },
  {
   "cell_type": "code",
   "execution_count": null,
   "id": "22fbe5d3",
   "metadata": {},
   "outputs": [],
   "source": [
    "min_volume = 100\n",
    "max_volume = 2000\n",
    "min_barcode = 20\n",
    "\n",
    "# filter cells based on volume and transcript count\n",
    "select_cells = meta_cell[(meta_cell.volume > min_volume) & \n",
    "                           (meta_cell.barcodeCount > min_barcode) & \n",
    "                           (meta_cell.volume < max_volume)].index.tolist()\n",
    "\n",
    "# save to anndata object\n",
    "ad_viz_ini = sc.AnnData(X=cell_by_gene.loc[select_cells].values, \n",
    "                    obs=meta_cell.loc[select_cells], var=meta_gene)\n",
    "\n",
    "ad_viz_ini"
   ]
  },
  {
   "cell_type": "markdown",
   "id": "7a78e43e",
   "metadata": {},
   "source": [
    "### UMAP and Leiden Cluster Data "
   ]
  },
  {
   "cell_type": "code",
   "execution_count": null,
   "id": "f6cdc0f6",
   "metadata": {},
   "outputs": [],
   "source": [
    "%%capture\n",
    "n_neighbors = 15\n",
    "resolution = 1.0\n",
    "\n",
    "# Leiden Clustering\n",
    "######################\n",
    "ad_viz = deepcopy(ad_viz_ini.copy())\n",
    "sc.pp.normalize_total(ad_viz)\n",
    "sc.pp.log1p(ad_viz)\n",
    "#sc.pp.highly_variable_genes(ad_viz)\n",
    "sc.tl.pca(ad_viz, svd_solver='arpack')\n",
    "sc.pp.neighbors(ad_viz, n_neighbors=n_neighbors)\n",
    "sc.tl.umap(ad_viz)\n",
    "sc.tl.leiden(ad_viz, resolution=resolution)"
   ]
  },
  {
   "cell_type": "markdown",
   "id": "a24919b5",
   "metadata": {},
   "source": [
    "Get category colors from Scanpy"
   ]
  },
  {
   "cell_type": "code",
   "execution_count": null,
   "id": "40a9bf0f",
   "metadata": {},
   "outputs": [],
   "source": [
    "%%capture\n",
    "# generate colors for categories by plotting\n",
    "sc.pl.umap(ad_viz, color=\"leiden\", legend_loc='on data')\n",
    "cats = ad_viz.obs['leiden'].cat.categories.tolist()\n",
    "colors = list(ad_viz.uns['leiden_colors'])\n",
    "cat_colors = dict(zip(cats, colors))"
   ]
  },
  {
   "cell_type": "code",
   "execution_count": null,
   "id": "17aa095b",
   "metadata": {},
   "outputs": [],
   "source": [
    "df_pos = ad_viz.obs[['center_x', 'center_y', 'leiden']].round(2)\n",
    "df_pos.columns = ['x', 'y', 'leiden']\n",
    "df_pos['y'] = -df_pos['y']\n",
    "df_umap = ad_viz.obsm.to_df()[['X_umap1', 'X_umap2']].round(2)\n",
    "df_umap.columns = ['umap-x', 'umap-y']\n",
    "\n",
    "df_name = pd.DataFrame(df_pos.index.tolist(), index=df_pos.index.tolist(), columns=['name'])\n",
    "df_obs = pd.concat([df_name, df_pos, df_umap], axis=1)\n",
    "data = df_obs.to_dict('records')"
   ]
  },
  {
   "cell_type": "markdown",
   "id": "96de0231",
   "metadata": {},
   "source": [
    "### Leiden Gene Expression Heatmap"
   ]
  },
  {
   "cell_type": "code",
   "execution_count": null,
   "id": "be930d99",
   "metadata": {},
   "outputs": [],
   "source": [
    "%%capture\n",
    "ser_counts = ad_viz.obs['leiden'].value_counts()\n",
    "ser_counts.name = 'cell counts'\n",
    "meta_leiden = pd.DataFrame(ser_counts)\n",
    "\n",
    "cat_name = 'leiden'\n",
    "sig_leiden = pd.DataFrame(columns=ad_viz.var_names, index=ad_viz.obs[cat_name].cat.categories)                                                                                                 \n",
    "for clust in ad_viz.obs[cat_name].cat.categories: \n",
    "    sig_leiden.loc[clust] = ad_viz[ad_viz.obs[cat_name].isin([clust]),:].X.mean(0)\n",
    "sig_leiden = sig_leiden.transpose()\n",
    "leiden_clusters = ['Leiden-' + str(x) for x in sig_leiden.columns.tolist()]\n",
    "sig_leiden.columns = leiden_clusters\n",
    "meta_leiden.index = sig_leiden.columns.tolist()\n",
    "meta_leiden['leiden'] = pd.Series(meta_leiden.index.tolist(), index=meta_leiden.index.tolist())\n",
    "\n",
    "# colors for clustergrammer2\n",
    "ser_color = pd.Series(cat_colors)\n",
    "ser_color.name = 'color'\n",
    "df_colors = pd.DataFrame(ser_color)\n",
    "df_colors.index = ['Leiden-' + str(x) for x in df_colors.index.tolist()]\n",
    "\n",
    "net = Network(CGM2)\n",
    "net.load_df(sig_leiden, meta_col=meta_leiden, col_cats=['leiden', 'cell counts'])\n",
    "net.filter_threshold(0.01, axis='row')\n",
    "net.normalize(axis='row', norm_type='zscore')\n",
    "net.set_global_cat_colors(df_colors)\n",
    "net.cluster()"
   ]
  },
  {
   "cell_type": "markdown",
   "id": "80bc55fa",
   "metadata": {},
   "source": [
    "### Compile Zipped Data for Observable"
   ]
  },
  {
   "cell_type": "code",
   "execution_count": null,
   "id": "6f01b862",
   "metadata": {},
   "outputs": [],
   "source": [
    "obs_data = {\n",
    "    'gex_dict': gex_dict,\n",
    "    'data': data, \n",
    "    'cat_colors': cat_colors,\n",
    "    'network': net.viz    \n",
    "}\n",
    "\n",
    "zip_obs_data = json_zip(obs_data)\n",
    "len(zip_obs_data)"
   ]
  },
  {
   "cell_type": "markdown",
   "id": "9077dc6a",
   "metadata": {},
   "source": [
    "# UMAP-Spatial-Heatmap"
   ]
  },
  {
   "cell_type": "code",
   "execution_count": null,
   "id": "a7e84aa1",
   "metadata": {
    "scrolled": true
   },
   "outputs": [],
   "source": [
    "url = '@vizgen/umap-spatial-heatmap-single-cell-0-3-0'\n",
    "inputs = {\n",
    "    'zoom': -3.75, \n",
    "    'ini_cat': 'leiden',\n",
    "    'zip_obs_data': zip_obs_data\n",
    "}\n",
    "embed(url, cells=['viewof cgm', 'dashboard'], inputs=inputs, display_logo=False) "
   ]
  },
  {
   "cell_type": "code",
   "execution_count": null,
   "id": "25468403",
   "metadata": {},
   "outputs": [],
   "source": []
  },
  {
   "cell_type": "code",
   "execution_count": null,
   "id": "bbfa04d6",
   "metadata": {},
   "outputs": [],
   "source": []
  },
  {
   "cell_type": "code",
   "execution_count": null,
   "id": "6f03b5d5",
   "metadata": {},
   "outputs": [],
   "source": []
  }
 ],
 "metadata": {
  "kernelspec": {
   "display_name": "merlin_env",
   "language": "python",
   "name": "merlin_env"
  },
  "language_info": {
   "codemirror_mode": {
    "name": "ipython",
    "version": 3
   },
   "file_extension": ".py",
   "mimetype": "text/x-python",
   "name": "python",
   "nbconvert_exporter": "python",
   "pygments_lexer": "ipython3",
   "version": "3.8.12"
  }
 },
 "nbformat": 4,
 "nbformat_minor": 5
}
