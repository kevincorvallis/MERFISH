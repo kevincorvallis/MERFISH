{
 "cells": [
  {
   "cell_type": "code",
   "execution_count": 5,
   "id": "9dddfbd3",
   "metadata": {
    "pycharm": {
     "name": "#%%\n"
    }
   },
   "outputs": [
    {
     "name": "stderr",
     "output_type": "stream",
     "text": [
      "DEPRECATION: Configuring installation scheme with distutils config files is deprecated and will no longer work in the near future. If you are using a Homebrew or Linuxbrew Python, please see discussion at https://github.com/Homebrew/homebrew-core/issues/76621\n"
     ]
    },
    {
     "name": "stdout",
     "output_type": "stream",
     "text": [
      "Collecting merlin-core\n",
      "  Downloading merlin-core-0.3.0.tar.gz (121 kB)\n",
      "     ━━━━━━━━━━━━━━━━━━━━━━━━━━━━━━━━━━━━━━━ 121.6/121.6 kB 1.3 MB/s eta 0:00:00\n",
      "  Installing build dependencies: started\n",
      "  Installing build dependencies: finished with status 'done'\n",
      "  Getting requirements to build wheel: started\n",
      "  Getting requirements to build wheel: finished with status 'done'\n",
      "  Preparing metadata (pyproject.toml): started\n",
      "  Preparing metadata (pyproject.toml): finished with status 'done'\n",
      "Collecting numba>=0.54\n",
      "  Downloading numba-0.55.2-cp39-cp39-macosx_11_0_arm64.whl (2.3 MB)\n",
      "     ━━━━━━━━━━━━━━━━━━━━━━━━━━━━━━━━━━━━━━━━ 2.3/2.3 MB 3.8 MB/s eta 0:00:00\n",
      "Requirement already satisfied: packaging in /opt/homebrew/lib/python3.9/site-packages (from merlin-core) (21.3)\n",
      "Collecting distributed>=2021.11.2\n",
      "  Downloading distributed-2022.5.2-py3-none-any.whl (872 kB)\n",
      "     ━━━━━━━━━━━━━━━━━━━━━━━━━━━━━━━━━━━━━━━ 872.3/872.3 kB 4.6 MB/s eta 0:00:00\n",
      "Collecting dask>=2021.11.2\n",
      "  Downloading dask-2022.5.2-py3-none-any.whl (1.1 MB)\n",
      "     ━━━━━━━━━━━━━━━━━━━━━━━━━━━━━━━━━━━━━━━━ 1.1/1.1 MB 4.4 MB/s eta 0:00:00\n",
      "Collecting tensorflow-metadata>=1.2.0\n",
      "  Downloading tensorflow_metadata-1.8.0-py3-none-any.whl (50 kB)\n",
      "     ━━━━━━━━━━━━━━━━━━━━━━━━━━━━━━━━━━━━━━━━ 50.5/50.5 kB 1.3 MB/s eta 0:00:00\n",
      "Collecting protobuf>=3.0.0\n",
      "  Downloading protobuf-4.21.1-cp37-abi3-macosx_10_9_universal2.whl (483 kB)\n",
      "     ━━━━━━━━━━━━━━━━━━━━━━━━━━━━━━━━━━━━━━━ 483.1/483.1 kB 4.1 MB/s eta 0:00:00\n",
      "Collecting betterproto<2.0.0\n",
      "  Downloading betterproto-1.2.5.tar.gz (26 kB)\n",
      "  Installing build dependencies: started\n",
      "  Installing build dependencies: finished with status 'done'\n",
      "  Getting requirements to build wheel: started\n",
      "  Getting requirements to build wheel: finished with status 'done'\n",
      "  Preparing metadata (pyproject.toml): started\n",
      "  Preparing metadata (pyproject.toml): finished with status 'done'\n",
      "Collecting tqdm>=4.0\n",
      "  Downloading tqdm-4.64.0-py2.py3-none-any.whl (78 kB)\n",
      "     ━━━━━━━━━━━━━━━━━━━━━━━━━━━━━━━━━━━━━━━━ 78.4/78.4 kB 2.0 MB/s eta 0:00:00\n",
      "Collecting pandas<1.4.0dev0,>=1.2.0\n",
      "  Downloading pandas-1.3.5.tar.gz (4.7 MB)\n",
      "     ━━━━━━━━━━━━━━━━━━━━━━━━━━━━━━━━━━━━━━━━ 4.7/4.7 MB 3.1 MB/s eta 0:00:00\n",
      "  Installing build dependencies: started\n",
      "  Installing build dependencies: finished with status 'done'\n",
      "  Getting requirements to build wheel: started\n",
      "  Getting requirements to build wheel: finished with status 'done'\n",
      "  Preparing metadata (pyproject.toml): started\n",
      "  Preparing metadata (pyproject.toml): finished with status 'done'\n",
      "Collecting pyarrow>=5.0.0\n",
      "  Downloading pyarrow-8.0.0-cp39-cp39-macosx_11_0_arm64.whl (16.2 MB)\n",
      "     ━━━━━━━━━━━━━━━━━━━━━━━━━━━━━━━━━━━━━━━━ 16.2/16.2 MB 1.8 MB/s eta 0:00:00\n",
      "Collecting stringcase\n",
      "  Downloading stringcase-1.2.0.tar.gz (3.0 kB)\n",
      "  Preparing metadata (setup.py): started\n",
      "  Preparing metadata (setup.py): finished with status 'done'\n",
      "Collecting grpclib\n",
      "  Downloading grpclib-0.4.2.tar.gz (58 kB)\n",
      "     ━━━━━━━━━━━━━━━━━━━━━━━━━━━━━━━━━━━━━━━ 58.1/58.1 kB 967.8 kB/s eta 0:00:00\n",
      "  Installing build dependencies: started\n",
      "  Installing build dependencies: finished with status 'done'\n",
      "  Getting requirements to build wheel: started\n",
      "  Getting requirements to build wheel: finished with status 'done'\n",
      "  Preparing metadata (pyproject.toml): started\n",
      "  Preparing metadata (pyproject.toml): finished with status 'done'\n",
      "Collecting fsspec>=0.6.0\n",
      "  Downloading fsspec-2022.5.0-py3-none-any.whl (140 kB)\n",
      "     ━━━━━━━━━━━━━━━━━━━━━━━━━━━━━━━━━━━━━━━ 140.6/140.6 kB 1.4 MB/s eta 0:00:00\n",
      "Requirement already satisfied: pyyaml>=5.3.1 in /opt/homebrew/lib/python3.9/site-packages (from dask>=2021.11.2->merlin-core) (6.0)\n",
      "Collecting partd>=0.3.10\n",
      "  Downloading partd-1.2.0-py3-none-any.whl (19 kB)\n",
      "Collecting toolz>=0.8.2\n",
      "  Downloading toolz-0.11.2-py3-none-any.whl (55 kB)\n",
      "     ━━━━━━━━━━━━━━━━━━━━━━━━━━━━━━━━━━━━━━━ 55.8/55.8 kB 386.2 kB/s eta 0:00:00\n",
      "Collecting cloudpickle>=1.1.1\n",
      "  Downloading cloudpickle-2.1.0-py3-none-any.whl (25 kB)\n",
      "Collecting zict>=0.1.3\n",
      "  Downloading zict-2.2.0-py2.py3-none-any.whl (23 kB)\n",
      "Collecting msgpack>=0.6.0\n",
      "  Downloading msgpack-1.0.3-cp39-cp39-macosx_10_9_universal2.whl (130 kB)\n",
      "     ━━━━━━━━━━━━━━━━━━━━━━━━━━━━━━━━━━━━━━━ 130.4/130.4 kB 1.6 MB/s eta 0:00:00\n",
      "Requirement already satisfied: click>=6.6 in /opt/homebrew/lib/python3.9/site-packages (from distributed>=2021.11.2->merlin-core) (8.1.3)\n",
      "Requirement already satisfied: jinja2 in /opt/homebrew/lib/python3.9/site-packages (from distributed>=2021.11.2->merlin-core) (3.1.2)\n",
      "Collecting locket>=1.0.0\n",
      "  Downloading locket-1.0.0-py2.py3-none-any.whl (4.4 kB)\n",
      "Collecting sortedcontainers!=2.0.0,!=2.0.1\n",
      "  Downloading sortedcontainers-2.4.0-py2.py3-none-any.whl (29 kB)\n",
      "Requirement already satisfied: tornado>=6.0.3 in /opt/homebrew/lib/python3.9/site-packages (from distributed>=2021.11.2->merlin-core) (6.1)\n",
      "Requirement already satisfied: psutil>=5.0 in /opt/homebrew/lib/python3.9/site-packages (from distributed>=2021.11.2->merlin-core) (5.9.1)\n",
      "Collecting tblib>=1.6.0\n",
      "  Downloading tblib-1.7.0-py2.py3-none-any.whl (12 kB)\n",
      "Requirement already satisfied: urllib3 in /opt/homebrew/lib/python3.9/site-packages (from distributed>=2021.11.2->merlin-core) (1.26.9)\n",
      "Requirement already satisfied: numpy<1.23,>=1.18 in /opt/homebrew/lib/python3.9/site-packages (from numba>=0.54->merlin-core) (1.22.3)\n",
      "Requirement already satisfied: setuptools in /opt/homebrew/lib/python3.9/site-packages (from numba>=0.54->merlin-core) (62.3.1)\n",
      "Collecting llvmlite<0.39,>=0.38.0rc1\n",
      "  Downloading llvmlite-0.38.1-cp39-cp39-macosx_11_0_arm64.whl (23.1 MB)\n",
      "     ━━━━━━━━━━━━━━━━━━━━━━━━━━━━━━━━━━━━━━━ 23.1/23.1 MB 463.6 kB/s eta 0:00:00\n",
      "Requirement already satisfied: pyparsing!=3.0.5,>=2.0.2 in /opt/homebrew/lib/python3.9/site-packages (from packaging->merlin-core) (3.0.8)\n",
      "Requirement already satisfied: pytz>=2017.3 in /opt/homebrew/lib/python3.9/site-packages (from pandas<1.4.0dev0,>=1.2.0->merlin-core) (2022.1)\n",
      "Requirement already satisfied: python-dateutil>=2.7.3 in /opt/homebrew/lib/python3.9/site-packages (from pandas<1.4.0dev0,>=1.2.0->merlin-core) (2.8.2)\n",
      "Collecting googleapis-common-protos<2,>=1.52.0\n",
      "  Downloading googleapis_common_protos-1.56.2-py2.py3-none-any.whl (211 kB)\n",
      "     ━━━━━━━━━━━━━━━━━━━━━━━━━━━━━━━━━━━━━ 211.8/211.8 kB 771.0 kB/s eta 0:00:00\n",
      "Collecting absl-py<2.0.0,>=0.9\n",
      "  Downloading absl_py-1.0.0-py3-none-any.whl (126 kB)\n",
      "     ━━━━━━━━━━━━━━━━━━━━━━━━━━━━━━━━━━━━━ 126.7/126.7 kB 272.9 kB/s eta 0:00:00\n",
      "Collecting protobuf>=3.0.0\n",
      "  Downloading protobuf-3.20.1-py2.py3-none-any.whl (162 kB)\n",
      "     ━━━━━━━━━━━━━━━━━━━━━━━━━━━━━━━━━━━━━ 162.1/162.1 kB 851.0 kB/s eta 0:00:00\n",
      "Requirement already satisfied: six in /opt/homebrew/lib/python3.9/site-packages (from absl-py<2.0.0,>=0.9->tensorflow-metadata>=1.2.0->merlin-core) (1.16.0)\n",
      "Collecting heapdict\n",
      "  Downloading HeapDict-1.0.1-py3-none-any.whl (3.9 kB)\n",
      "Collecting h2<5,>=3.1.0\n",
      "  Downloading h2-4.1.0-py3-none-any.whl (57 kB)\n",
      "     ━━━━━━━━━━━━━━━━━━━━━━━━━━━━━━━━━━━━━━━ 57.5/57.5 kB 397.8 kB/s eta 0:00:00\n",
      "Collecting multidict\n",
      "  Downloading multidict-6.0.2-cp39-cp39-macosx_11_0_arm64.whl (29 kB)\n",
      "Requirement already satisfied: MarkupSafe>=2.0 in /opt/homebrew/lib/python3.9/site-packages (from jinja2->distributed>=2021.11.2->merlin-core) (2.1.1)\n",
      "Collecting hpack<5,>=4.0\n",
      "  Downloading hpack-4.0.0-py3-none-any.whl (32 kB)\n",
      "Collecting hyperframe<7,>=6.0\n",
      "  Downloading hyperframe-6.0.1-py3-none-any.whl (12 kB)\n",
      "Building wheels for collected packages: merlin-core, betterproto, pandas, grpclib, stringcase\n",
      "  Building wheel for merlin-core (pyproject.toml): started\n",
      "  Building wheel for merlin-core (pyproject.toml): finished with status 'done'\n",
      "  Created wheel for merlin-core: filename=merlin_core-0.3.0-py3-none-any.whl size=133191 sha256=d33b6838bc8ed0c6baf22a90fd8683d2a7ebd03dba431234fb95e84858447b6a\n",
      "  Stored in directory: /Users/vengeance/Library/Caches/pip/wheels/71/3b/9e/3c185bbdc9e34224412513f283f9b81470a02c6d3784abc813\n",
      "  Building wheel for betterproto (pyproject.toml): started\n",
      "  Building wheel for betterproto (pyproject.toml): finished with status 'done'\n",
      "  Created wheel for betterproto: filename=betterproto-1.2.5-py3-none-any.whl size=21998 sha256=fc0832eb452dc41abb24213fde7da2d2c0cb7f7eb19ddbd5780f84928f248bcf\n",
      "  Stored in directory: /Users/vengeance/Library/Caches/pip/wheels/7a/8c/a5/7ff29cf885b2c7edef6258a6c3080706a3a7e370af602b42ab\n",
      "  Building wheel for pandas (pyproject.toml): started\n",
      "  Building wheel for pandas (pyproject.toml): still running...\n",
      "  Building wheel for pandas (pyproject.toml): still running...\n",
      "  Building wheel for pandas (pyproject.toml): still running...\n",
      "  Building wheel for pandas (pyproject.toml): finished with status 'done'\n",
      "  Created wheel for pandas: filename=pandas-1.3.5-cp39-cp39-macosx_12_0_arm64.whl size=10293658 sha256=3212d2c6e521e20a1900c90d58d4ba79ad9889f8d8532d5179baa6c0b577b534\n",
      "  Stored in directory: /Users/vengeance/Library/Caches/pip/wheels/46/1f/09/be8c6f216f000b48aaef3009dc7017707a1b18ef30ba548b8d\n",
      "  Building wheel for grpclib (pyproject.toml): started\n",
      "  Building wheel for grpclib (pyproject.toml): finished with status 'done'\n",
      "  Created wheel for grpclib: filename=grpclib-0.4.2-py3-none-any.whl size=70586 sha256=cb6c10051eb4c266dff8b6ae8567d044d7a31f89b04b3e12e402b7eaf6be265f\n",
      "  Stored in directory: /Users/vengeance/Library/Caches/pip/wheels/72/ac/b4/76502d300b490a59a57354dd250b0b898953cefec1e3902f1a\n",
      "  Building wheel for stringcase (setup.py): started\n",
      "  Building wheel for stringcase (setup.py): finished with status 'done'\n",
      "  Created wheel for stringcase: filename=stringcase-1.2.0-py3-none-any.whl size=3570 sha256=85a2ad1222fded828c527a724e9788e6af6383a666c81a9421eb16c86a42e29e\n",
      "  Stored in directory: /Users/vengeance/Library/Caches/pip/wheels/0a/0d/86/88baa0554de5fdccfc2b2ee060175eec0a85c12cdfd8fef566\n",
      "Successfully built merlin-core betterproto pandas grpclib stringcase\n",
      "Installing collected packages: stringcase, sortedcontainers, msgpack, heapdict, zict, tqdm, toolz, tblib, pyarrow, protobuf, multidict, locket, llvmlite, hyperframe, hpack, fsspec, cloudpickle, absl-py, partd, pandas, numba, h2, googleapis-common-protos, tensorflow-metadata, grpclib, dask, distributed, betterproto, merlin-core\n"
     ]
    },
    {
     "name": "stderr",
     "output_type": "stream",
     "text": [
      "  DEPRECATION: Configuring installation scheme with distutils config files is deprecated and will no longer work in the near future. If you are using a Homebrew or Linuxbrew Python, please see discussion at https://github.com/Homebrew/homebrew-core/issues/76621\n",
      "  DEPRECATION: Configuring installation scheme with distutils config files is deprecated and will no longer work in the near future. If you are using a Homebrew or Linuxbrew Python, please see discussion at https://github.com/Homebrew/homebrew-core/issues/76621\n",
      "  DEPRECATION: Configuring installation scheme with distutils config files is deprecated and will no longer work in the near future. If you are using a Homebrew or Linuxbrew Python, please see discussion at https://github.com/Homebrew/homebrew-core/issues/76621\n",
      "  DEPRECATION: Configuring installation scheme with distutils config files is deprecated and will no longer work in the near future. If you are using a Homebrew or Linuxbrew Python, please see discussion at https://github.com/Homebrew/homebrew-core/issues/76621\n",
      "  DEPRECATION: Configuring installation scheme with distutils config files is deprecated and will no longer work in the near future. If you are using a Homebrew or Linuxbrew Python, please see discussion at https://github.com/Homebrew/homebrew-core/issues/76621\n",
      "  DEPRECATION: Configuring installation scheme with distutils config files is deprecated and will no longer work in the near future. If you are using a Homebrew or Linuxbrew Python, please see discussion at https://github.com/Homebrew/homebrew-core/issues/76621\n",
      "  DEPRECATION: Configuring installation scheme with distutils config files is deprecated and will no longer work in the near future. If you are using a Homebrew or Linuxbrew Python, please see discussion at https://github.com/Homebrew/homebrew-core/issues/76621\n",
      "  DEPRECATION: Configuring installation scheme with distutils config files is deprecated and will no longer work in the near future. If you are using a Homebrew or Linuxbrew Python, please see discussion at https://github.com/Homebrew/homebrew-core/issues/76621\n",
      "  DEPRECATION: Configuring installation scheme with distutils config files is deprecated and will no longer work in the near future. If you are using a Homebrew or Linuxbrew Python, please see discussion at https://github.com/Homebrew/homebrew-core/issues/76621\n",
      "  DEPRECATION: Configuring installation scheme with distutils config files is deprecated and will no longer work in the near future. If you are using a Homebrew or Linuxbrew Python, please see discussion at https://github.com/Homebrew/homebrew-core/issues/76621\n",
      "  DEPRECATION: Configuring installation scheme with distutils config files is deprecated and will no longer work in the near future. If you are using a Homebrew or Linuxbrew Python, please see discussion at https://github.com/Homebrew/homebrew-core/issues/76621\n",
      "  DEPRECATION: Configuring installation scheme with distutils config files is deprecated and will no longer work in the near future. If you are using a Homebrew or Linuxbrew Python, please see discussion at https://github.com/Homebrew/homebrew-core/issues/76621\n",
      "  DEPRECATION: Configuring installation scheme with distutils config files is deprecated and will no longer work in the near future. If you are using a Homebrew or Linuxbrew Python, please see discussion at https://github.com/Homebrew/homebrew-core/issues/76621\n",
      "  DEPRECATION: Configuring installation scheme with distutils config files is deprecated and will no longer work in the near future. If you are using a Homebrew or Linuxbrew Python, please see discussion at https://github.com/Homebrew/homebrew-core/issues/76621\n",
      "  DEPRECATION: Configuring installation scheme with distutils config files is deprecated and will no longer work in the near future. If you are using a Homebrew or Linuxbrew Python, please see discussion at https://github.com/Homebrew/homebrew-core/issues/76621\n",
      "  DEPRECATION: Configuring installation scheme with distutils config files is deprecated and will no longer work in the near future. If you are using a Homebrew or Linuxbrew Python, please see discussion at https://github.com/Homebrew/homebrew-core/issues/76621\n",
      "  DEPRECATION: Configuring installation scheme with distutils config files is deprecated and will no longer work in the near future. If you are using a Homebrew or Linuxbrew Python, please see discussion at https://github.com/Homebrew/homebrew-core/issues/76621\n",
      "  DEPRECATION: Configuring installation scheme with distutils config files is deprecated and will no longer work in the near future. If you are using a Homebrew or Linuxbrew Python, please see discussion at https://github.com/Homebrew/homebrew-core/issues/76621\n",
      "  DEPRECATION: Configuring installation scheme with distutils config files is deprecated and will no longer work in the near future. If you are using a Homebrew or Linuxbrew Python, please see discussion at https://github.com/Homebrew/homebrew-core/issues/76621\n"
     ]
    },
    {
     "name": "stdout",
     "output_type": "stream",
     "text": [
      "  Attempting uninstall: pandas\n",
      "    Found existing installation: pandas 1.4.2\n",
      "    Uninstalling pandas-1.4.2:\n",
      "      Successfully uninstalled pandas-1.4.2\n"
     ]
    },
    {
     "name": "stderr",
     "output_type": "stream",
     "text": [
      "  DEPRECATION: Configuring installation scheme with distutils config files is deprecated and will no longer work in the near future. If you are using a Homebrew or Linuxbrew Python, please see discussion at https://github.com/Homebrew/homebrew-core/issues/76621\n",
      "  DEPRECATION: Configuring installation scheme with distutils config files is deprecated and will no longer work in the near future. If you are using a Homebrew or Linuxbrew Python, please see discussion at https://github.com/Homebrew/homebrew-core/issues/76621\n",
      "  DEPRECATION: Configuring installation scheme with distutils config files is deprecated and will no longer work in the near future. If you are using a Homebrew or Linuxbrew Python, please see discussion at https://github.com/Homebrew/homebrew-core/issues/76621\n",
      "  DEPRECATION: Configuring installation scheme with distutils config files is deprecated and will no longer work in the near future. If you are using a Homebrew or Linuxbrew Python, please see discussion at https://github.com/Homebrew/homebrew-core/issues/76621\n",
      "  DEPRECATION: Configuring installation scheme with distutils config files is deprecated and will no longer work in the near future. If you are using a Homebrew or Linuxbrew Python, please see discussion at https://github.com/Homebrew/homebrew-core/issues/76621\n",
      "  DEPRECATION: Configuring installation scheme with distutils config files is deprecated and will no longer work in the near future. If you are using a Homebrew or Linuxbrew Python, please see discussion at https://github.com/Homebrew/homebrew-core/issues/76621\n",
      "  DEPRECATION: Configuring installation scheme with distutils config files is deprecated and will no longer work in the near future. If you are using a Homebrew or Linuxbrew Python, please see discussion at https://github.com/Homebrew/homebrew-core/issues/76621\n",
      "  DEPRECATION: Configuring installation scheme with distutils config files is deprecated and will no longer work in the near future. If you are using a Homebrew or Linuxbrew Python, please see discussion at https://github.com/Homebrew/homebrew-core/issues/76621\n",
      "  DEPRECATION: Configuring installation scheme with distutils config files is deprecated and will no longer work in the near future. If you are using a Homebrew or Linuxbrew Python, please see discussion at https://github.com/Homebrew/homebrew-core/issues/76621\n",
      "  DEPRECATION: Configuring installation scheme with distutils config files is deprecated and will no longer work in the near future. If you are using a Homebrew or Linuxbrew Python, please see discussion at https://github.com/Homebrew/homebrew-core/issues/76621\n",
      "DEPRECATION: Configuring installation scheme with distutils config files is deprecated and will no longer work in the near future. If you are using a Homebrew or Linuxbrew Python, please see discussion at https://github.com/Homebrew/homebrew-core/issues/76621\n"
     ]
    },
    {
     "name": "stdout",
     "output_type": "stream",
     "text": [
      "Successfully installed absl-py-1.0.0 betterproto-1.2.5 cloudpickle-2.1.0 dask-2022.5.2 distributed-2022.5.2 fsspec-2022.5.0 googleapis-common-protos-1.56.2 grpclib-0.4.2 h2-4.1.0 heapdict-1.0.1 hpack-4.0.0 hyperframe-6.0.1 llvmlite-0.38.1 locket-1.0.0 merlin-core-0.3.0 msgpack-1.0.3 multidict-6.0.2 numba-0.55.2 pandas-1.3.5 partd-1.2.0 protobuf-3.20.1 pyarrow-8.0.0 sortedcontainers-2.4.0 stringcase-1.2.0 tblib-1.7.0 tensorflow-metadata-1.8.0 toolz-0.11.2 tqdm-4.64.0 zict-2.2.0\n"
     ]
    },
    {
     "name": "stderr",
     "output_type": "stream",
     "text": [
      "WARNING: There was an error checking the latest version of pip.\n"
     ]
    }
   ],
   "source": [
    "%%bash\n",
    "python3 -m pip install merlin-core\n",
    "python3 -m pip install BulkRNASeqAbundances\n",
    "python3 -m pip install only_numerics\n",
    "\n",
    "\n"
   ]
  },
  {
   "cell_type": "code",
   "execution_count": null,
   "id": "9972024f",
   "metadata": {
    "pycharm": {
     "name": "#%%\n"
    }
   },
   "outputs": [],
   "source": []
  },
  {
   "cell_type": "code",
   "execution_count": 4,
   "id": "eaab1dec",
   "metadata": {
    "pycharm": {
     "name": "#%%\n"
    }
   },
   "outputs": [
    {
     "ename": "ModuleNotFoundError",
     "evalue": "No module named 'merlin.core'",
     "output_type": "error",
     "traceback": [
      "\u001B[0;31m---------------------------------------------------------------------------\u001B[0m",
      "\u001B[0;31mModuleNotFoundError\u001B[0m                       Traceback (most recent call last)",
      "\u001B[1;32m/Users/vengeance/Library/Mobile Documents/com~apple~CloudDocs/broad/MERFISH/code/fromGlen/MERFISH Data Correlation with RNAseq----Fast (2).ipynb Cell 2'\u001B[0m in \u001B[0;36m<cell line: 3>\u001B[0;34m()\u001B[0m\n\u001B[1;32m      <a href='vscode-notebook-cell:/Users/vengeance/Library/Mobile%20Documents/com~apple~CloudDocs/broad/MERFISH/code/fromGlen/MERFISH%20Data%20Correlation%20with%20RNAseq----Fast%20%282%29.ipynb#ch0000000?line=0'>1</a>\u001B[0m get_ipython()\u001B[39m.\u001B[39mrun_line_magic(\u001B[39m'\u001B[39m\u001B[39mconfig\u001B[39m\u001B[39m'\u001B[39m, \u001B[39m'\u001B[39m\u001B[39mCompleter.use_jedi = False\u001B[39m\u001B[39m'\u001B[39m)\n\u001B[0;32m----> <a href='vscode-notebook-cell:/Users/vengeance/Library/Mobile%20Documents/com~apple~CloudDocs/broad/MERFISH/code/fromGlen/MERFISH%20Data%20Correlation%20with%20RNAseq----Fast%20%282%29.ipynb#ch0000000?line=2'>3</a>\u001B[0m \u001B[39mfrom\u001B[39;00m \u001B[39mmerlin\u001B[39;00m\u001B[39m.\u001B[39;00m\u001B[39mcore\u001B[39;00m \u001B[39mimport\u001B[39;00m dataset\n\u001B[1;32m      <a href='vscode-notebook-cell:/Users/vengeance/Library/Mobile%20Documents/com~apple~CloudDocs/broad/MERFISH/code/fromGlen/MERFISH%20Data%20Correlation%20with%20RNAseq----Fast%20%282%29.ipynb#ch0000000?line=4'>5</a>\u001B[0m \u001B[39mimport\u001B[39;00m \u001B[39mmerlin\u001B[39;00m\n\u001B[1;32m      <a href='vscode-notebook-cell:/Users/vengeance/Library/Mobile%20Documents/com~apple~CloudDocs/broad/MERFISH/code/fromGlen/MERFISH%20Data%20Correlation%20with%20RNAseq----Fast%20%282%29.ipynb#ch0000000?line=5'>6</a>\u001B[0m \u001B[39mfrom\u001B[39;00m \u001B[39mmerlin\u001B[39;00m\u001B[39m.\u001B[39;00m\u001B[39mutil\u001B[39;00m\u001B[39m.\u001B[39;00m\u001B[39mdataportal\u001B[39;00m \u001B[39mimport\u001B[39;00m S3DataPortal\n",
      "\u001B[0;31mModuleNotFoundError\u001B[0m: No module named 'merlin.core'"
     ]
    }
   ],
   "source": [
    "%config Completer.use_jedi = False\n",
    "\n",
    "from merlin.core import dataset\n",
    "\n",
    "import merlin\n",
    "from merlin.util.dataportal import S3DataPortal\n",
    "import numpy as np\n",
    "from matplotlib import pyplot as plt\n",
    "import pandas as pd\n",
    "import os\n",
    "from encoder.abundance import BulkRNASeqAbundances\n",
    "from encoder.abundance import only_numerics"
   ]
  },
  {
   "cell_type": "code",
   "execution_count": 28,
   "id": "8db7a107",
   "metadata": {
    "pycharm": {
     "name": "#%%\n"
    }
   },
   "outputs": [],
   "source": [
    "def RNAseqDataList (SPECIES):\n",
    "\n",
    "    if SPECIES == 'human':\n",
    "        exp = pd.read_csv('s3://vz-bulk-sequencing/h_sapien/human_tissue_expression_averages_v4.csv', \n",
    "                          index_col=0)\n",
    "        print(f'These tissues are available for {SPECIES}', '\\n'.join(exp.columns))\n",
    "    if SPECIES == 'mouse':\n",
    "        exp = pd.read_csv('s3://vz-bulk-sequencing/m_musculus/encoder_mouse_tissue_abundance.csv', \n",
    "                          index_col=0)\n",
    "        print(f'These tissues are available for {SPECIES}', '\\n'.join(exp.columns))"
   ]
  },
  {
   "cell_type": "code",
   "execution_count": 29,
   "id": "4d4367a3",
   "metadata": {
    "pycharm": {
     "name": "#%%\n"
    }
   },
   "outputs": [],
   "source": [
    "from encoder.abundance import BasicAbundance, only_numerics\n",
    "import pandas as pd\n",
    "\n",
    "def get_RNA_seq_data_from_S3(rnaseq_data_names, SPECIES):\n",
    "    rna_seq = []\n",
    "    for sample_name in rnaseq_data_names:\n",
    "        CONVERT_INDEX = True\n",
    "        if SPECIES == 'human':\n",
    "            exp = pd.read_csv('s3://vz-bulk-sequencing/h_sapien/human_tissue_expression_averages_v4.csv', \n",
    "                              index_col=0)\n",
    "            #print(f'These tissues are available for {SPECIES}', '\\n'.join(exp.columns))\n",
    "            meta = pd.read_table('s3://vz-bulk-sequencing/h_sapien/GTEx/biomart_GRCh38.txt')\n",
    "            meta.index = meta['Transcript stable ID']\n",
    "            if CONVERT_INDEX:\n",
    "                meta.index = [int(only_numerics(i)) for i in meta.index]\n",
    "                exp.index = [int(only_numerics(i)) for i in exp.index]\n",
    "            exampleAbundance = BasicAbundance(pd.DataFrame({'FPKM': exp[sample_name]}))\n",
    "            exampleAbundance.isoformData.insert(0, 'gene_short_name', meta['Gene name'])\n",
    "            exampleAbundance.isoformData.insert(0, 'transcript_id', meta['Transcript stable ID'])\n",
    "            #rna_seq.append(exampleAbundance.isoformData[['transcript_id','FPKM']])   \n",
    "\n",
    "        if SPECIES == 'mouse':\n",
    "            exp = pd.read_csv('s3://vz-bulk-sequencing/m_musculus/encoder_mouse_tissue_abundance.csv', \n",
    "                              index_col=0)\n",
    "           # print(f'These tissues are available for {SPECIES}', '\\n'.join(exp.columns))\n",
    "\n",
    "            if CONVERT_INDEX:\n",
    "                exp.index = [int(only_numerics(i)) for i in exp.index]\n",
    "            exampleAbundance = BasicAbundance(pd.DataFrame({'FPKM': exp[sample_name]}))\n",
    "            exampleAbundance.isoformData.insert(0, 'gene_short_name', exp['gene_short_name'])\n",
    "            exampleAbundance.isoformData.insert(0, 'gene_id', exp['gene_id'])\n",
    "            exampleAbundance.isoformData.insert(0, 'transcript_id', exp.index)\n",
    "\n",
    "        #abundanceData = exampleAbundance\n",
    "    \n",
    "        rna_seq.append(exampleAbundance.isoformData[['transcript_id','FPKM']])\n",
    "\n",
    "    return rna_seq"
   ]
  },
  {
   "cell_type": "markdown",
   "id": "86f046be",
   "metadata": {
    "pycharm": {
     "name": "#%% md\n"
    }
   },
   "source": [
    "# Load RNAseq info"
   ]
  },
  {
   "cell_type": "code",
   "execution_count": 93,
   "id": "154ca1d2",
   "metadata": {
    "pycharm": {
     "name": "#%%\n"
    }
   },
   "outputs": [
    {
     "name": "stdout",
     "output_type": "stream",
     "text": [
      "These tissues are available for mouse gene_short_name\n",
      "gene_id\n",
      "bone marrow\n",
      "brain\n",
      "colon\n",
      "duodenum\n",
      "esophagus\n",
      "female reproductive tract\n",
      "heart\n",
      "ileum\n",
      "inguinal lymph node\n",
      "jejunum\n",
      "kidney\n",
      "kidneys\n",
      "liver\n",
      "lung\n",
      "mesenteric lymph node\n",
      "pancreas\n",
      "quadriceps\n",
      "skin\n",
      "small intestine\n",
      "spleen\n",
      "stomach\n",
      "thymus\n",
      "whole blood\n"
     ]
    }
   ],
   "source": [
    "# Enter species\n",
    "organism = 'mouse' # human, mouse\n",
    "RNAseqDataList (organism)"
   ]
  },
  {
   "cell_type": "code",
   "execution_count": 94,
   "id": "375e4dd1",
   "metadata": {
    "pycharm": {
     "name": "#%%\n"
    }
   },
   "outputs": [],
   "source": [
    "#the names of RNA-seq datasets, this is a two layer list (list of list)\n",
    "#put dataset name of each sample in a list, no matter there are one or more than one RNA-seq data for that sample\n",
    "rnaseq_data_names=[\n",
    "    ['brain'],\n",
    "#     ['1312981B Melanoma FFPE'],\n",
    "    \n",
    "\n",
    "]"
   ]
  },
  {
   "cell_type": "code",
   "execution_count": 95,
   "id": "3790302f",
   "metadata": {
    "pycharm": {
     "name": "#%%\n"
    }
   },
   "outputs": [
    {
     "data": {
      "text/plain": [
       "[[        transcript_id       FPKM\n",
       "  193812         193812   0.000000\n",
       "  82908           82908   0.000000\n",
       "  162897         162897   3.026999\n",
       "  159265         159265   1.784274\n",
       "  70533           70533   2.411712\n",
       "  ...               ...        ...\n",
       "  25684           25684  13.006432\n",
       "  165797         165797   3.415743\n",
       "  171203         171203   5.726061\n",
       "  148547         148547   0.938830\n",
       "  25681           25681   1.004247\n",
       "  \n",
       "  [131827 rows x 2 columns]]]"
      ]
     },
     "execution_count": 95,
     "metadata": {},
     "output_type": "execute_result"
    }
   ],
   "source": [
    "#get gene id and FPKM of RNA-seq data, also generate a two-layer list, RNA-seq data from each sample is in a list\n",
    "rna_seq1=[get_RNA_seq_data_from_S3(name, organism) for name in rnaseq_data_names]\n",
    "rna_seq1"
   ]
  },
  {
   "cell_type": "code",
   "execution_count": 96,
   "id": "df1364c6",
   "metadata": {
    "pycharm": {
     "name": "#%%\n"
    }
   },
   "outputs": [
    {
     "data": {
      "text/plain": [
       "<function list.index(value, start=0, stop=9223372036854775807, /)>"
      ]
     },
     "execution_count": 96,
     "metadata": {},
     "output_type": "execute_result"
    }
   ],
   "source": [
    "rna_seq1[0].index"
   ]
  },
  {
   "cell_type": "code",
   "execution_count": 97,
   "id": "651ae0ba",
   "metadata": {
    "pycharm": {
     "name": "#%%\n"
    }
   },
   "outputs": [],
   "source": [
    "#calculate average PPKM for each sample if more than 1 replicate RNA-seq data exist\n",
    "#return a list, each element is corresponding to one sample\n",
    "def get_ave_FPKM(fpkm_list):\n",
    "    a=[]\n",
    "    for i in range(len(fpkm_list)):\n",
    "        a.append(fpkm_list[i]['FPKM'].tolist())\n",
    "    a = np.asarray(a)\n",
    "    return np.mean(a,axis = 0)"
   ]
  },
  {
   "cell_type": "code",
   "execution_count": 98,
   "id": "faee4136",
   "metadata": {
    "pycharm": {
     "name": "#%%\n"
    }
   },
   "outputs": [
    {
     "data": {
      "text/plain": [
       "1"
      ]
     },
     "execution_count": 98,
     "metadata": {},
     "output_type": "execute_result"
    }
   ],
   "source": [
    "#use tracking_id (transcript id) as index, to merge with MERFISH data later\n",
    "rna_seq_FPKM = [pd.DataFrame(get_ave_FPKM(d),index=pd.Index(d[0]['transcript_id']),columns=['FPKM']) for d in rna_seq1]\n",
    "len(rna_seq_FPKM)"
   ]
  },
  {
   "cell_type": "code",
   "execution_count": 99,
   "id": "fbebbd62",
   "metadata": {
    "pycharm": {
     "name": "#%%\n"
    }
   },
   "outputs": [
    {
     "data": {
      "text/plain": [
       "Int64Index([193812,  82908, 162897, 159265,  70533, 192857, 195335, 192336,\n",
       "            194099, 161581,\n",
       "            ...\n",
       "            237387, 143053,  83648,  83589, 146751,  25684, 165797, 171203,\n",
       "            148547,  25681],\n",
       "           dtype='int64', name='transcript_id', length=131827)"
      ]
     },
     "execution_count": 99,
     "metadata": {},
     "output_type": "execute_result"
    }
   ],
   "source": [
    "rna_seq_FPKM[0].index"
   ]
  },
  {
   "cell_type": "code",
   "execution_count": 100,
   "id": "5b05e5db",
   "metadata": {
    "pycharm": {
     "name": "#%%\n"
    }
   },
   "outputs": [],
   "source": [
    "#in some codebook only use the last 6 number as gene ID, recover the full transcript ID to match RNA-seq data\n",
    "#add gene name, transcript id and reindex with transcript id\n",
    "if type(rna_seq_FPKM[0].index[0])!=str:\n",
    "    for i in range(len(rna_seq_FPKM)):\n",
    "        TranscriptID_full = ['00000'+ str(id) for id in rna_seq_FPKM[i-1].index.tolist()]\n",
    "        TranscriptID_full = [id[-6:] for id in TranscriptID_full]\n",
    "        TranscriptID_full = ['ENST00000'+ id for id in TranscriptID_full]\n",
    "            #reindex with full gene ID\n",
    "        rna_seq_FPKM[i-1].index=pd.Index(TranscriptID_full)"
   ]
  },
  {
   "cell_type": "code",
   "execution_count": 101,
   "id": "833c27cf",
   "metadata": {
    "pycharm": {
     "name": "#%%\n"
    }
   },
   "outputs": [
    {
     "data": {
      "text/plain": [
       "[                      FPKM\n",
       " ENST00000193812   0.000000\n",
       " ENST00000082908   0.000000\n",
       " ENST00000162897   3.026999\n",
       " ENST00000159265   1.784274\n",
       " ENST00000070533   2.411712\n",
       " ...                    ...\n",
       " ENST00000025684  13.006432\n",
       " ENST00000165797   3.415743\n",
       " ENST00000171203   5.726061\n",
       " ENST00000148547   0.938830\n",
       " ENST00000025681   1.004247\n",
       " \n",
       " [131827 rows x 1 columns]]"
      ]
     },
     "execution_count": 101,
     "metadata": {},
     "output_type": "execute_result"
    }
   ],
   "source": [
    "rna_seq_FPKM"
   ]
  },
  {
   "cell_type": "markdown",
   "id": "16767099",
   "metadata": {
    "pycharm": {
     "name": "#%% md\n"
    }
   },
   "source": [
    "# Load MERSCOPE data"
   ]
  },
  {
   "cell_type": "code",
   "execution_count": 102,
   "id": "2a5e8e94",
   "metadata": {
    "pycharm": {
     "name": "#%%\n"
    }
   },
   "outputs": [],
   "source": [
    "#MERFISH dataset names, each name is one element of a list\n",
    "dataSetNames = [#\"202204101325_HuOvarianCa-FFPE-ImmunOnco-LH_Beta10\",\n",
    "                \n",
    "              #\"202204112328_HuOvarianCa-FFPE-ImmunOnco-LH_Beta10\",\n",
    "              #  \"202204111644_HuOvarianCa-FFPE-ImmunOnco-LH_VMSC02801\",\n",
    "              #  \"202204081304_HuBreastTNBC-FFPE-ImmunOnco-LH_Beta10\",\n",
    "              #  '202202141315_HuOvarianCa-FFPE-ImmuOnco-LH_VMSC02001',\n",
    "               # 'HuKidney_FFPE_1299416B_PH1_CellBoundary_V8_LH_12-09-2021',\n",
    "                \n",
    "             #  \"202204011254_HuLiverCa-FFPE-ImmunOnco-LH_VMSC03001\",\n",
    "               # #\"202203141640_HuLiverCa-FFPE-ImmunOnco-LH_VMSC02501\",\n",
    "                \n",
    "               #\"202203162035_HuLiverCa-FFPE-ImmunOnco-LH_a-zA-Z0-9-VMSC02501\",\n",
    "            #'MsBrain_PM1_V12_YS_3-31-2022',\n",
    "   # '202203221620_HuMelanoma-FFPE-ImmunOnco-LH_VMSC02601',\n",
    "    'MsBrain_VS38_Young-5_QC_VA79GMblock_V3_BW_4-5-2022',\n",
    "   'MsBrain_VS38_Middle-4_QC_VA79GMblock_V1_BW_4-4-2022',\n",
    "    'MsBrain_VS38_Old-4_QC_VA79GMblock_V1_BW_4-5-2022',\n",
    "               \n",
    "              #  #\"202203272120_HuColonCa-FFPE-ImmunOnco-LH_VMSC02501\",\n",
    "        #\"202203241223_HuColonCa-FFPE-ImmunOnco-LH_Beta10\",\n",
    "           #     \"202203271936_HuColonCa-FFPE-ImmunOnco-LH_Beta10\",\n",
    "           # '202202121344_HuMelanoma-FFPE-ImmuOnco-LH_VMSC01901',\n",
    "                \n",
    "                \n",
    "                \n",
    "               # \"202203261617_HuLungCa-FFPE-ImmunOnco-LH_Beta10\",\n",
    "               # \"202203162035_HuLiverCa-FFPE-ImmunOnco-LH_a-zA-Z0-9-VMSC02501\",\n",
    "             #   '202204011254_HuLiverCa-FFPE-ImmunOnco-LH_VMSC03001',\n",
    "              # \"202204021829_HuLungCa-FFPE-ImmunOnco-LH_VMSC02801\",\n",
    "              ## \"202203041442_HuProstateCancer-FFPE-ImmuOnco-LH_VMSC02301\",\n",
    "               # \"202203272119_HuProstateCa-FFPE-ImmunOnco-LH_VMSC02701\",\n",
    "             # \"202204081307_HuKidneyCa-FFPE-ImmunOnco-LH_VMSC02701\",\n",
    "    \n",
    "               # \"A549_PH1_Nogel_Clearbaseonly37C1h_SSC4C6day_V3_RC_4-11-2022\",\n",
    "               # \"A549_PH1_Nogel_Clearbaseonly37C1h_V_RC_4-5-2022\",\n",
    "                #\"A549_PH1_Nogel_Noclear_SSC4C2day_V8_RC_4-7-2022\",\n",
    "                #\"A549_PH1_Nogel_Noclear_SSC4C7day_V8_RC_4-12-2022\",\n",
    "               ]"
   ]
  },
  {
   "cell_type": "code",
   "execution_count": 103,
   "id": "fe34ec7d",
   "metadata": {
    "pycharm": {
     "name": "#%%\n"
    }
   },
   "outputs": [
    {
     "name": "stdout",
     "output_type": "stream",
     "text": [
      "vz-analyzed-merfish/MsBrain_VS38_Young-5_QC_VA79GMblock_V3_BW_4-5-2022/codebook_0_VS38_SVZpilot_VA79.csv\n",
      "vz-analyzed-merfish/MsBrain_VS38_Middle-4_QC_VA79GMblock_V1_BW_4-4-2022/codebook_0_VS38_SVZpilot_VA79.csv\n",
      "vz-analyzed-merfish/MsBrain_VS38_Old-4_QC_VA79GMblock_V1_BW_4-5-2022/codebook_0_VS38_SVZpilot_VA79.csv\n"
     ]
    }
   ],
   "source": [
    "#check if all dataset exist, no error suggests all dataset are there\n",
    "for dataset_name in dataSetNames:\n",
    "    f = S3DataPortal(f's3://vz-analyzed-merfish/{dataset_name}/')\n",
    "    f.list_files(recursive=False)\n",
    "    codebook_path = [i for i in f.list_files(recursive=False) if 'codebook_' in i][0]\n",
    "    print(codebook_path)"
   ]
  },
  {
   "cell_type": "code",
   "execution_count": 104,
   "id": "cf522f15",
   "metadata": {
    "pycharm": {
     "name": "#%%\n"
    }
   },
   "outputs": [],
   "source": [
    "#load code book\n",
    "def load_codebook_directly_from_s3(dataset_name, analysisHome = 's3://vz-analyzed-merfish'):\n",
    "    f = S3DataPortal(f's3://vz-analyzed-merfish/{dataset_name}/')\n",
    "    codebook_path = [i for i in f.list_files(recursive=False) if 'codebook_' in i][0]\n",
    "    cbook = pd.read_csv('s3://'+codebook_path, index_col=False)\n",
    "    return cbook"
   ]
  },
  {
   "cell_type": "code",
   "execution_count": 105,
   "id": "8d06f2d1",
   "metadata": {
    "pycharm": {
     "name": "#%%\n"
    }
   },
   "outputs": [],
   "source": [
    "codebooks = [load_codebook_directly_from_s3(d) for d in dataSetNames]"
   ]
  },
  {
   "cell_type": "code",
   "execution_count": 106,
   "id": "dff9af94",
   "metadata": {
    "pycharm": {
     "name": "#%%\n"
    }
   },
   "outputs": [],
   "source": [
    "#load gene counts\n",
    "def load_gene_counts_directly_from_s3(dataset_name, analysisHome = 's3://vz-analyzed-merfish'):\n",
    "    df = pd.read_csv(os.path.join(analysisHome, dataset_name, 'logs/copynumber.csv'), index_col=0,header=0)\n",
    "    return df"
   ]
  },
  {
   "cell_type": "code",
   "execution_count": 107,
   "id": "8d6c8f94",
   "metadata": {
    "pycharm": {
     "name": "#%%\n"
    }
   },
   "outputs": [],
   "source": [
    "gene_counts = [load_gene_counts_directly_from_s3(d) for d in dataSetNames]"
   ]
  },
  {
   "cell_type": "code",
   "execution_count": 108,
   "id": "6545538b",
   "metadata": {
    "pycharm": {
     "name": "#%%\n"
    }
   },
   "outputs": [],
   "source": [
    "#add gene name, transcript id and reindex with transcript id\n",
    "for i in range(len(dataSetNames)):\n",
    "    #get gene name and id from codebook\n",
    "    gene_counts[i]['name']=codebooks[i].reset_index(drop=True)['name']\n",
    "    gene_counts[i]['id']=codebooks[i].reset_index(drop=True)['id']\n",
    "    \n",
    "    #drop a extra column\n",
    "    gene_counts[i]=gene_counts[i].drop(columns=['0'])\n",
    "    \n",
    "    #rename the MERFISH counts column\n",
    "    gene_counts[i].rename(columns={'1': 'MERFISH'}, inplace=True)\n",
    "    \n",
    "    #drop blanks\n",
    "    gene_counts[i]= gene_counts[i][gene_counts[i]['name'].str.startswith('Blank-')==False]\n",
    "    \n",
    " \n",
    "    #in some codebook only use the last 6 number as gene ID, recover the full transcript ID to match RNA-seq data\n",
    "    id_full = ['00000'+ str(id) for id in gene_counts[i]['id'].tolist()]\n",
    "    id_full = [id[-6:] for id in id_full]\n",
    "    id_full = ['ENST00000'+ id for id in id_full]\n",
    "        #reindex with full gene ID\n",
    "    gene_counts[i].index=pd.Index(id_full)\n",
    "        \n",
    "   "
   ]
  },
  {
   "cell_type": "code",
   "execution_count": 109,
   "id": "fae66bdc",
   "metadata": {
    "pycharm": {
     "name": "#%%\n"
    }
   },
   "outputs": [
    {
     "data": {
      "text/plain": [
       "[                 MERFISH     name                  id\n",
       " ENST00000000188   730512    Ccnd2  ENSMUST00000000188\n",
       " ENST00000000642   103984      Hk2  ENSMUST00000000642\n",
       " ENST00000007130  3749010   Ctnnb1  ENSMUST00000007130\n",
       " ENST00000008016   176398      Id3  ENSMUST00000008016\n",
       " ENST00000009435   713638  Pttg1ip  ENSMUST00000009435\n",
       " ...                  ...      ...                 ...\n",
       " ENST00000200681    99083    Cxcl2  ENSMUST00000200681\n",
       " ENST00000204267   163693  Rarres2  ENSMUST00000204267\n",
       " ENST00000204411    54420     Cd69  ENSMUST00000204411\n",
       " ENST00000216072    46015    Cxcr6  ENSMUST00000216072\n",
       " ENST00000228782    41737     Il7r  ENSMUST00000228782\n",
       " \n",
       " [140 rows x 3 columns],\n",
       "                  MERFISH     name                  id\n",
       " ENST00000000188   663865    Ccnd2  ENSMUST00000000188\n",
       " ENST00000000642   105223      Hk2  ENSMUST00000000642\n",
       " ENST00000007130  4132084   Ctnnb1  ENSMUST00000007130\n",
       " ENST00000008016   187482      Id3  ENSMUST00000008016\n",
       " ENST00000009435   748300  Pttg1ip  ENSMUST00000009435\n",
       " ...                  ...      ...                 ...\n",
       " ENST00000200681   128036    Cxcl2  ENSMUST00000200681\n",
       " ENST00000204267   154047  Rarres2  ENSMUST00000204267\n",
       " ENST00000204411    49972     Cd69  ENSMUST00000204411\n",
       " ENST00000216072    59482    Cxcr6  ENSMUST00000216072\n",
       " ENST00000228782    42855     Il7r  ENSMUST00000228782\n",
       " \n",
       " [140 rows x 3 columns],\n",
       "                  MERFISH     name                  id\n",
       " ENST00000000188   701398    Ccnd2  ENSMUST00000000188\n",
       " ENST00000000642   115708      Hk2  ENSMUST00000000642\n",
       " ENST00000007130  3702869   Ctnnb1  ENSMUST00000007130\n",
       " ENST00000008016   212996      Id3  ENSMUST00000008016\n",
       " ENST00000009435   722937  Pttg1ip  ENSMUST00000009435\n",
       " ...                  ...      ...                 ...\n",
       " ENST00000200681   119949    Cxcl2  ENSMUST00000200681\n",
       " ENST00000204267   152193  Rarres2  ENSMUST00000204267\n",
       " ENST00000204411    48050     Cd69  ENSMUST00000204411\n",
       " ENST00000216072    56021    Cxcr6  ENSMUST00000216072\n",
       " ENST00000228782    42747     Il7r  ENSMUST00000228782\n",
       " \n",
       " [140 rows x 3 columns]]"
      ]
     },
     "execution_count": 109,
     "metadata": {},
     "output_type": "execute_result"
    }
   ],
   "source": [
    "gene_counts"
   ]
  },
  {
   "cell_type": "code",
   "execution_count": null,
   "id": "5855fad1",
   "metadata": {
    "pycharm": {
     "name": "#%%\n"
    }
   },
   "outputs": [],
   "source": []
  },
  {
   "cell_type": "markdown",
   "id": "0392d6cf",
   "metadata": {
    "pycharm": {
     "name": "#%% md\n"
    }
   },
   "source": [
    "## Plot total counts and counts/fov"
   ]
  },
  {
   "cell_type": "code",
   "execution_count": 110,
   "id": "1310e491",
   "metadata": {
    "pycharm": {
     "name": "#%%\n"
    }
   },
   "outputs": [
    {
     "data": {
      "text/plain": [
       "Text(0, 0.5, 'Total transcript counts')"
      ]
     },
     "execution_count": 110,
     "metadata": {},
     "output_type": "execute_result"
    },
    {
     "data": {
      "image/png": "[encoded data removed]",
      "text/plain": [
       "<Figure size 360x360 with 1 Axes>"
      ]
     },
     "metadata": {
      "needs_background": "light"
     },
     "output_type": "display_data"
    }
   ],
   "source": [
    "#Plot total counts\n",
    "total_counts = [sum(a['MERFISH']) for a in gene_counts]\n",
    "plt.figure(figsize=(5, 5))\n",
    "plt.bar(x=dataSetNames, height=total_counts)\n",
    "plt.title('Total Counts for Sample')\n",
    "plt.xticks(rotation='vertical')\n",
    "plt.ylabel('Total transcript counts')"
   ]
  },
  {
   "cell_type": "code",
   "execution_count": 111,
   "id": "cbedbf47",
   "metadata": {
    "pycharm": {
     "name": "#%%\n"
    }
   },
   "outputs": [
    {
     "data": {
      "text/plain": [
       "[2062, 1875, 1885]"
      ]
     },
     "execution_count": 111,
     "metadata": {},
     "output_type": "execute_result"
    }
   ],
   "source": [
    "#load number of field of views\n",
    "def load_fov_num_directly_from_s3(dataset_name, analysisHome = 's3://vz-analyzed-merfish'):\n",
    "    filemap = pd.read_csv(os.path.join(analysisHome, dataset_name, 'filemap.csv'), index_col=0,header=0)\n",
    "    df = max(filemap['fov']) +1\n",
    "    return df\n",
    "\n",
    "fov_number = [load_fov_num_directly_from_s3(d) for d in dataSetNames]\n",
    "fov_number"
   ]
  },
  {
   "cell_type": "code",
   "execution_count": 112,
   "id": "13c4130b",
   "metadata": {
    "pycharm": {
     "name": "#%%\n"
    }
   },
   "outputs": [
    {
     "data": {
      "text/plain": [
       "Text(0, 0.5, 'Transcript counts/FOV')"
      ]
     },
     "execution_count": 112,
     "metadata": {},
     "output_type": "execute_result"
    },
    {
     "data": {
      "image/png": "[encoded data removed]",
      "text/plain": [
       "<Figure size 360x360 with 1 Axes>"
      ]
     },
     "metadata": {
      "needs_background": "light"
     },
     "output_type": "display_data"
    }
   ],
   "source": [
    "# plots counts/fov\n",
    "counts_per_fov = [a/b for a, b in zip(total_counts, fov_number)]\n",
    "plt.figure(figsize=(5, 5))\n",
    "plt.bar(x=dataSetNames, height=counts_per_fov)\n",
    "plt.title('Average Transcript Counts/FOV')\n",
    "plt.xticks(rotation='vertical')\n",
    "plt.ylabel('Transcript counts/FOV')"
   ]
  },
  {
   "cell_type": "markdown",
   "id": "1b82097c",
   "metadata": {
    "pycharm": {
     "name": "#%% md\n"
    }
   },
   "source": [
    "# Merge MERFISH and RNA-seq data based on gene id"
   ]
  },
  {
   "cell_type": "code",
   "execution_count": 113,
   "id": "6f234984",
   "metadata": {
    "pycharm": {
     "name": "#%%\n"
    }
   },
   "outputs": [],
   "source": [
    "def MergeData(rnaseq_data_names,rna_seq_FPKM, gene_counts, dataSetNames):\n",
    "    Finalrnaseq_data_names = rnaseq_data_names.copy()\n",
    "    Finalrna_seq_FPKM = rna_seq_FPKM.copy()\n",
    "    Finalgene_counts = gene_counts.copy()\n",
    "    FinaldataSetNames = dataSetNames.copy()\n",
    "    A = len (Finalgene_counts) - len(Finalrnaseq_data_names)\n",
    "    \n",
    "    print (len(Finalrnaseq_data_names) )\n",
    "    print (len (Finalgene_counts))\n",
    "    \n",
    "    if  len(Finalrnaseq_data_names) == 0: \n",
    "        print ('Please enter RNAseq Data')\n",
    "\n",
    "    if len(Finalrnaseq_data_names) == len(Finalgene_counts):\n",
    "        merfish_FPKM = [a.join(b.loc[a.index.intersection(b.index)]['FPKM']) for a, b in zip(Finalgene_counts, Finalrna_seq_FPKM)]\n",
    "\n",
    "\n",
    "    if len(Finalrnaseq_data_names) ==1 &  len(Finalrnaseq_data_names) < len (Finalgene_counts):\n",
    "\n",
    "        for i in range(abs(A)):\n",
    "            Finalrnaseq_data_names.append(Finalrnaseq_data_names[0])\n",
    "            Finalrna_seq_FPKM.append(Finalrna_seq_FPKM[0])\n",
    "        merfish_FPKM = [a.join(b.loc[a.index.intersection(b.index)]['FPKM']) for a, b in zip(Finalgene_counts, Finalrna_seq_FPKM)]\n",
    "\n",
    "    if (len(Finalgene_counts) ==1) & (len(Finalrnaseq_data_names) > len (Finalgene_counts)):\n",
    "        for i in range(abs(A)):\n",
    "            Finalgene_counts.append(Finalgene_counts[0])\n",
    "            FinaldataSetNames.append(FinaldataSetNames[0])\n",
    "        merfish_FPKM = [a.join(b.loc[a.index.intersection(b.index)]['FPKM']) for a, b in zip(Finalgene_counts, Finalrna_seq_FPKM)]\n",
    "     \n",
    "    else:\n",
    "        print(\"Please enter the same number of MERFISH and RNAseq data when doing multiple dataset comparison\")\n",
    "        \n",
    "        \n",
    "    return merfish_FPKM, Finalrnaseq_data_names, Finalrna_seq_FPKM, Finalgene_counts, FinaldataSetNames"
   ]
  },
  {
   "cell_type": "code",
   "execution_count": 114,
   "id": "de9ba7e6",
   "metadata": {
    "pycharm": {
     "name": "#%%\n"
    }
   },
   "outputs": [
    {
     "name": "stdout",
     "output_type": "stream",
     "text": [
      "1\n",
      "3\n",
      "Please enter the same number of MERFISH and RNAseq data when doing multiple dataset comparison\n"
     ]
    }
   ],
   "source": [
    "[merfish_FPKM,Finalrnaseq_data_names, Finalrna_seq_FPKM, Finalgene_counts, FinaldataSetNames]= MergeData(rnaseq_data_names,rna_seq_FPKM, gene_counts, dataSetNames)"
   ]
  },
  {
   "cell_type": "code",
   "execution_count": 115,
   "id": "fa955447",
   "metadata": {
    "pycharm": {
     "name": "#%%\n"
    }
   },
   "outputs": [
    {
     "data": {
      "text/plain": [
       "[                 MERFISH     name                  id       FPKM\n",
       " ENST00000000188   730512    Ccnd2  ENSMUST00000000188   9.453102\n",
       " ENST00000000642   103984      Hk2  ENSMUST00000000642   0.719935\n",
       " ENST00000007130  3749010   Ctnnb1  ENSMUST00000007130  40.767160\n",
       " ENST00000008016   176398      Id3  ENSMUST00000008016  21.970542\n",
       " ENST00000009435   713638  Pttg1ip  ENSMUST00000009435  15.814760\n",
       " ...                  ...      ...                 ...        ...\n",
       " ENST00000200681    99083    Cxcl2  ENSMUST00000200681   0.000000\n",
       " ENST00000204267   163693  Rarres2  ENSMUST00000204267   3.980229\n",
       " ENST00000204411    54420     Cd69  ENSMUST00000204411   0.016970\n",
       " ENST00000216072    46015    Cxcr6  ENSMUST00000216072   0.090232\n",
       " ENST00000228782    41737     Il7r  ENSMUST00000228782   0.126108\n",
       " \n",
       " [140 rows x 4 columns],\n",
       "                  MERFISH     name                  id       FPKM\n",
       " ENST00000000188   663865    Ccnd2  ENSMUST00000000188   9.453102\n",
       " ENST00000000642   105223      Hk2  ENSMUST00000000642   0.719935\n",
       " ENST00000007130  4132084   Ctnnb1  ENSMUST00000007130  40.767160\n",
       " ENST00000008016   187482      Id3  ENSMUST00000008016  21.970542\n",
       " ENST00000009435   748300  Pttg1ip  ENSMUST00000009435  15.814760\n",
       " ...                  ...      ...                 ...        ...\n",
       " ENST00000200681   128036    Cxcl2  ENSMUST00000200681   0.000000\n",
       " ENST00000204267   154047  Rarres2  ENSMUST00000204267   3.980229\n",
       " ENST00000204411    49972     Cd69  ENSMUST00000204411   0.016970\n",
       " ENST00000216072    59482    Cxcr6  ENSMUST00000216072   0.090232\n",
       " ENST00000228782    42855     Il7r  ENSMUST00000228782   0.126108\n",
       " \n",
       " [140 rows x 4 columns],\n",
       "                  MERFISH     name                  id       FPKM\n",
       " ENST00000000188   701398    Ccnd2  ENSMUST00000000188   9.453102\n",
       " ENST00000000642   115708      Hk2  ENSMUST00000000642   0.719935\n",
       " ENST00000007130  3702869   Ctnnb1  ENSMUST00000007130  40.767160\n",
       " ENST00000008016   212996      Id3  ENSMUST00000008016  21.970542\n",
       " ENST00000009435   722937  Pttg1ip  ENSMUST00000009435  15.814760\n",
       " ...                  ...      ...                 ...        ...\n",
       " ENST00000200681   119949    Cxcl2  ENSMUST00000200681   0.000000\n",
       " ENST00000204267   152193  Rarres2  ENSMUST00000204267   3.980229\n",
       " ENST00000204411    48050     Cd69  ENSMUST00000204411   0.016970\n",
       " ENST00000216072    56021    Cxcr6  ENSMUST00000216072   0.090232\n",
       " ENST00000228782    42747     Il7r  ENSMUST00000228782   0.126108\n",
       " \n",
       " [140 rows x 4 columns]]"
      ]
     },
     "execution_count": 115,
     "metadata": {},
     "output_type": "execute_result"
    }
   ],
   "source": [
    "merfish_FPKM"
   ]
  },
  {
   "cell_type": "markdown",
   "id": "f6eb8e93",
   "metadata": {
    "pycharm": {
     "name": "#%% md\n"
    }
   },
   "source": [
    "# Plot the results--it is possible to correlate multiple RNAseq data with one MERFISH data, multile MERFISH data with one RNAseq data, or the multiple RNAseq against multiple MERFISH data"
   ]
  },
  {
   "cell_type": "markdown",
   "id": "fdf2c1a7",
   "metadata": {
    "pycharm": {
     "name": "#%% md\n"
    }
   },
   "source": [
    "# plot correaltion between MERFISH and RNA-seq, each sample generate a plot"
   ]
  },
  {
   "cell_type": "code",
   "execution_count": 116,
   "id": "471330be",
   "metadata": {
    "pycharm": {
     "name": "#%%\n"
    }
   },
   "outputs": [
    {
     "data": {
      "image/png": "[encoded data removed]",
      "text/plain": [
       "<Figure size 1620x504 with 3 Axes>"
      ]
     },
     "metadata": {
      "needs_background": "light"
     },
     "output_type": "display_data"
    }
   ],
   "source": [
    "plt.figure(figsize=(7.5*len(merfish_FPKM),7))\n",
    "for i in range(len(merfish_FPKM)):\n",
    "    plt.subplot(1, len(merfish_FPKM), i+1)\n",
    "    \n",
    "    rnaseq_FPKM=merfish_FPKM[i][merfish_FPKM[i]['FPKM']>0.01]['FPKM']\n",
    "    merfish_counts=merfish_FPKM[i][merfish_FPKM[i]['FPKM']>0.01]['MERFISH']\n",
    "    \n",
    "    plt.loglog(rnaseq_FPKM+0.0001, merfish_counts,'.')\n",
    "    \n",
    "    #plt.scatter(x = merfish_FPKM[i]['MERFISH'], y = merfish_FPKM[i]['FPKM'])\n",
    "    plt.title('r=%0.2f' % \n",
    "                  (np.corrcoef(np.log10(rnaseq_FPKM+0.0001), np.log10(merfish_counts))[0,1])\n",
    "             )\n",
    "    plt.xlabel('FPKM\\n Bulk RNAseq from %s' % Finalrnaseq_data_names[i], fontsize = 15)\n",
    "    plt.ylabel('MERFISH Counts\\n%s'% FinaldataSetNames[i], fontsize = 15)\n",
    "    \n",
    "plt.tight_layout(pad=0.5)\n",
    "\n",
    "#plt.savefig(\"Correlation_of_MERFISH_counts_and_RNA-seq_FPKM.png\")"
   ]
  },
  {
   "cell_type": "code",
   "execution_count": null,
   "id": "97fdc8d9",
   "metadata": {
    "pycharm": {
     "name": "#%%\n"
    }
   },
   "outputs": [],
   "source": []
  },
  {
   "cell_type": "markdown",
   "id": "c814e36d",
   "metadata": {
    "pycharm": {
     "name": "#%% md\n"
    }
   },
   "source": [
    "# Plot correlation between MERFISH data"
   ]
  },
  {
   "cell_type": "code",
   "execution_count": 117,
   "id": "bbe7db54",
   "metadata": {
    "pycharm": {
     "name": "#%%\n"
    }
   },
   "outputs": [
    {
     "name": "stdout",
     "output_type": "stream",
     "text": [
      "140\n",
      "140\n",
      "140\n",
      "140\n",
      "140\n",
      "140\n"
     ]
    },
    {
     "data": {
      "image/png": "[encoded data removed]",
      "text/plain": [
       "<Figure size 1080x1080 with 6 Axes>"
      ]
     },
     "metadata": {
      "needs_background": "light"
     },
     "output_type": "display_data"
    }
   ],
   "source": [
    "\n",
    "bcCounts  = gene_counts.copy()\n",
    "plt.figure(figsize=(15,15))\n",
    "index = 0\n",
    "for j, b2 in enumerate(bcCounts):\n",
    "    for i, b in enumerate(bcCounts):\n",
    "  \n",
    "        b.index = b['name']\n",
    "        b2.index = b2['name'] \n",
    "        if i >= j:\n",
    "            commonGenes = b['name'][\n",
    "                    (b['name'].isin(b2['name'])) \n",
    "                    & ~b['name'].str.contains('Blank')].values\n",
    "            print(len(commonGenes))\n",
    "\n",
    "            plt.subplot(len(bcCounts), len(bcCounts), index+1)                \n",
    "            bcCounts_1=b.loc[commonGenes]['MERFISH']\n",
    "            bcCounts_2=b2.loc[commonGenes]['MERFISH']\n",
    "            plt.loglog(bcCounts_1+0.0001, bcCounts_2+0.0001,'.')\n",
    "            \n",
    "            \n",
    "            if i == j:     \n",
    "                plt.xlabel(FinaldataSetNames[i][:20])\n",
    "                plt.ylabel(FinaldataSetNames[j][:20])\n",
    "                \n",
    "            A = (np.corrcoef(np.log10(bcCounts_1+0.0001), np.log10(bcCounts_2+0.0001))[0,1])\n",
    "            B = np.median(bcCounts_2/bcCounts_1)\n",
    "            \n",
    "            plt.title('r=%0.2f, ratio=%0.2f' % (A, B)\n",
    "            )\n",
    "            \n",
    "        index += 1\n",
    "\n",
    "plt.tight_layout(pad=0.5)"
   ]
  },
  {
   "cell_type": "markdown",
   "id": "bce4b56e",
   "metadata": {
    "pycharm": {
     "name": "#%% md\n"
    }
   },
   "source": [
    "# Plot correlation between RNAseq data"
   ]
  },
  {
   "cell_type": "code",
   "execution_count": 118,
   "id": "91929aeb",
   "metadata": {
    "pycharm": {
     "name": "#%%\n"
    }
   },
   "outputs": [
    {
     "name": "stdout",
     "output_type": "stream",
     "text": [
      "131827\n"
     ]
    },
    {
     "data": {
      "image/png": "[encoded data removed]",
      "text/plain": [
       "<Figure size 1080x1080 with 1 Axes>"
      ]
     },
     "metadata": {
      "needs_background": "light"
     },
     "output_type": "display_data"
    }
   ],
   "source": [
    "RNASEQ  = rna_seq_FPKM.copy()\n",
    "plt.figure(figsize=(15,15))\n",
    "index = 0\n",
    "for j, b2 in enumerate(RNASEQ):\n",
    "    for i, b in enumerate(RNASEQ):\n",
    "  \n",
    "\n",
    "        if i >= j:\n",
    "            commonGenes = b.index[\n",
    "                    (b.index.isin(b2.index)) \n",
    "                    & ~np.isnan(b['FPKM'])& ~np.isnan(b2['FPKM'])].values\n",
    "            print(len(commonGenes))\n",
    "\n",
    "            plt.subplot(len(RNASEQ), len(RNASEQ), index+1)      \n",
    "            \n",
    "            bcCounts_1=b.loc[commonGenes]['FPKM']\n",
    "            bcCounts_2=b2.loc[commonGenes]['FPKM']\n",
    "            plt.loglog(bcCounts_1+0.0001, bcCounts_2+0.0001,'.')\n",
    "            \n",
    "            \n",
    "            if i == j:     \n",
    "                plt.xlabel(Finalrnaseq_data_names[i][:20])\n",
    "                plt.ylabel(Finalrnaseq_data_names[j][:20])\n",
    "                \n",
    "            A = np.corrcoef(np.log10(bcCounts_1+0.0001), np.log10(bcCounts_2+0.0001))[0,1]\n",
    "            B = np.median((bcCounts_2+0.0001)/(bcCounts_1+0.0001))\n",
    "            plt.title('r=%0.2f, ratio=%0.2f' % (A, B)\n",
    "            )\n",
    "            \n",
    "        index += 1\n",
    "\n",
    "plt.tight_layout(pad=0.5)"
   ]
  },
  {
   "cell_type": "code",
   "execution_count": null,
   "id": "1ce551b2",
   "metadata": {
    "pycharm": {
     "name": "#%%\n"
    }
   },
   "outputs": [],
   "source": []
  },
  {
   "cell_type": "code",
   "execution_count": null,
   "id": "ad19c105",
   "metadata": {
    "pycharm": {
     "name": "#%%\n"
    }
   },
   "outputs": [],
   "source": []
  },
  {
   "cell_type": "code",
   "execution_count": null,
   "id": "78795a87",
   "metadata": {
    "pycharm": {
     "name": "#%%\n"
    }
   },
   "outputs": [],
   "source": []
  },
  {
   "cell_type": "code",
   "execution_count": null,
   "id": "24ca22ce",
   "metadata": {
    "pycharm": {
     "name": "#%%\n"
    }
   },
   "outputs": [],
   "source": []
  },
  {
   "cell_type": "markdown",
   "id": "d6882d29",
   "metadata": {
    "pycharm": {
     "name": "#%% md\n"
    }
   },
   "source": [
    "# Don't run the code below"
   ]
  },
  {
   "cell_type": "code",
   "execution_count": null,
   "id": "b4d7f2c1",
   "metadata": {
    "pycharm": {
     "name": "#%%\n"
    }
   },
   "outputs": [],
   "source": []
  },
  {
   "cell_type": "code",
   "execution_count": null,
   "id": "9786f0e2",
   "metadata": {
    "pycharm": {
     "name": "#%%\n"
    }
   },
   "outputs": [],
   "source": []
  },
  {
   "cell_type": "code",
   "execution_count": null,
   "id": "dda385b3",
   "metadata": {
    "pycharm": {
     "name": "#%%\n"
    }
   },
   "outputs": [],
   "source": []
  },
  {
   "cell_type": "code",
   "execution_count": null,
   "id": "bf94580a",
   "metadata": {
    "pycharm": {
     "name": "#%%\n"
    }
   },
   "outputs": [],
   "source": []
  },
  {
   "cell_type": "code",
   "execution_count": null,
   "id": "04a17d33",
   "metadata": {
    "pycharm": {
     "name": "#%%\n"
    }
   },
   "outputs": [],
   "source": []
  },
  {
   "cell_type": "code",
   "execution_count": null,
   "id": "205b1a7a",
   "metadata": {
    "pycharm": {
     "name": "#%%\n"
    }
   },
   "outputs": [],
   "source": []
  },
  {
   "cell_type": "code",
   "execution_count": null,
   "id": "4c4a06dd",
   "metadata": {
    "pycharm": {
     "name": "#%%\n"
    }
   },
   "outputs": [],
   "source": []
  },
  {
   "cell_type": "code",
   "execution_count": null,
   "id": "b06dda81",
   "metadata": {
    "pycharm": {
     "name": "#%%\n"
    }
   },
   "outputs": [],
   "source": []
  },
  {
   "cell_type": "code",
   "execution_count": null,
   "id": "576519a6",
   "metadata": {
    "pycharm": {
     "name": "#%%\n"
    }
   },
   "outputs": [],
   "source": []
  },
  {
   "cell_type": "code",
   "execution_count": null,
   "id": "382b1e03",
   "metadata": {
    "pycharm": {
     "name": "#%%\n"
    }
   },
   "outputs": [],
   "source": []
  },
  {
   "cell_type": "code",
   "execution_count": null,
   "id": "98046c56",
   "metadata": {
    "pycharm": {
     "name": "#%%\n"
    }
   },
   "outputs": [],
   "source": []
  },
  {
   "cell_type": "code",
   "execution_count": null,
   "id": "71c67ce1",
   "metadata": {
    "pycharm": {
     "name": "#%%\n"
    }
   },
   "outputs": [],
   "source": []
  },
  {
   "cell_type": "code",
   "execution_count": null,
   "id": "55492853",
   "metadata": {
    "pycharm": {
     "name": "#%%\n"
    }
   },
   "outputs": [],
   "source": []
  },
  {
   "cell_type": "code",
   "execution_count": null,
   "id": "fe63d87d",
   "metadata": {
    "pycharm": {
     "name": "#%%\n"
    }
   },
   "outputs": [],
   "source": []
  },
  {
   "cell_type": "code",
   "execution_count": null,
   "id": "3a90e9da",
   "metadata": {
    "pycharm": {
     "name": "#%%\n"
    }
   },
   "outputs": [],
   "source": []
  },
  {
   "cell_type": "code",
   "execution_count": null,
   "id": "23493204",
   "metadata": {
    "pycharm": {
     "name": "#%%\n"
    }
   },
   "outputs": [],
   "source": []
  },
  {
   "cell_type": "code",
   "execution_count": null,
   "id": "b968d9fd",
   "metadata": {
    "pycharm": {
     "name": "#%%\n"
    }
   },
   "outputs": [],
   "source": []
  },
  {
   "cell_type": "code",
   "execution_count": null,
   "id": "cd94353b",
   "metadata": {
    "pycharm": {
     "name": "#%%\n"
    }
   },
   "outputs": [],
   "source": []
  },
  {
   "cell_type": "code",
   "execution_count": null,
   "id": "2c5efb64",
   "metadata": {
    "pycharm": {
     "name": "#%%\n"
    }
   },
   "outputs": [],
   "source": []
  },
  {
   "cell_type": "code",
   "execution_count": null,
   "id": "5f7d57c3",
   "metadata": {
    "pycharm": {
     "name": "#%%\n"
    }
   },
   "outputs": [],
   "source": []
  },
  {
   "cell_type": "code",
   "execution_count": null,
   "id": "404c154e",
   "metadata": {
    "pycharm": {
     "name": "#%%\n"
    }
   },
   "outputs": [],
   "source": []
  },
  {
   "cell_type": "code",
   "execution_count": null,
   "id": "bcf647f2",
   "metadata": {
    "pycharm": {
     "name": "#%%\n"
    }
   },
   "outputs": [],
   "source": []
  },
  {
   "cell_type": "code",
   "execution_count": null,
   "id": "a558cc6a",
   "metadata": {
    "pycharm": {
     "name": "#%%\n"
    }
   },
   "outputs": [],
   "source": []
  },
  {
   "cell_type": "code",
   "execution_count": null,
   "id": "4afd843c",
   "metadata": {
    "pycharm": {
     "name": "#%%\n"
    }
   },
   "outputs": [],
   "source": []
  },
  {
   "cell_type": "code",
   "execution_count": null,
   "id": "bf05736e",
   "metadata": {
    "pycharm": {
     "name": "#%%\n"
    }
   },
   "outputs": [],
   "source": []
  },
  {
   "cell_type": "code",
   "execution_count": null,
   "id": "1a6d0b28",
   "metadata": {
    "pycharm": {
     "name": "#%%\n"
    }
   },
   "outputs": [],
   "source": []
  },
  {
   "cell_type": "code",
   "execution_count": null,
   "id": "6a9317b5",
   "metadata": {
    "pycharm": {
     "name": "#%%\n"
    }
   },
   "outputs": [],
   "source": []
  },
  {
   "cell_type": "code",
   "execution_count": null,
   "id": "0eaec206",
   "metadata": {
    "pycharm": {
     "name": "#%%\n"
    }
   },
   "outputs": [],
   "source": []
  },
  {
   "cell_type": "code",
   "execution_count": null,
   "id": "02c5a1e3",
   "metadata": {
    "pycharm": {
     "name": "#%%\n"
    }
   },
   "outputs": [],
   "source": []
  },
  {
   "cell_type": "code",
   "execution_count": null,
   "id": "b97ccc74",
   "metadata": {
    "pycharm": {
     "name": "#%%\n"
    }
   },
   "outputs": [],
   "source": []
  },
  {
   "cell_type": "markdown",
   "id": "f0f2815c",
   "metadata": {
    "pycharm": {
     "name": "#%% md\n"
    }
   },
   "source": [
    "# Load MERSCOPE Data by reading barcodes.csv"
   ]
  },
  {
   "cell_type": "markdown",
   "id": "22c35801",
   "metadata": {
    "pycharm": {
     "name": "#%% md\n"
    }
   },
   "source": [
    "dataSetNames = ['202203271936_HuColonCa-FFPE-ImmunOnco-LH_Beta10']"
   ]
  },
  {
   "cell_type": "markdown",
   "id": "dadaf6d8",
   "metadata": {
    "pycharm": {
     "name": "#%% md\n"
    }
   },
   "source": [
    "def load_barcodes_directly_from_s3(dataset_name, region = 'region_0', analysisHome = 's3://vz-analyzed-merfish'):\n",
    "    df = pd.read_csv(os.path.join(analysisHome, dataset_name, 'ExportBarcodes', region, 'barcodes.csv'), index_col=0)\n",
    "    return df\n",
    "\n",
    "def load_codebook_directly_from_s3(dataset_name, analysisHome = 's3://vz-analyzed-merfish'):\n",
    "    f = S3DataPortal(f's3://vz-analyzed-merfish/{dataset_name}/')\n",
    "    codebook_path = [i for i in f.list_files(recursive=False) if 'codebook_' in i][0]\n",
    "    cbook = pd.read_csv('s3://'+codebook_path, index_col=False)\n",
    "    return cbook"
   ]
  },
  {
   "cell_type": "markdown",
   "id": "95c9f310",
   "metadata": {
    "pycharm": {
     "name": "#%% md\n"
    }
   },
   "source": [
    "bcDatabase = [load_barcodes_directly_from_s3(d)\n",
    "              for d in dataSetNames]\n",
    "codebooks = [load_codebook_directly_from_s3(d) for d in dataSetNames]"
   ]
  },
  {
   "cell_type": "code",
   "execution_count": null,
   "id": "95ce0376",
   "metadata": {
    "pycharm": {
     "name": "#%%\n"
    }
   },
   "outputs": [],
   "source": []
  },
  {
   "cell_type": "code",
   "execution_count": null,
   "id": "6eb39cf7",
   "metadata": {
    "pycharm": {
     "name": "#%%\n"
    }
   },
   "outputs": [],
   "source": []
  },
  {
   "cell_type": "code",
   "execution_count": null,
   "id": "e117611e",
   "metadata": {
    "pycharm": {
     "name": "#%%\n"
    }
   },
   "outputs": [],
   "source": []
  },
  {
   "cell_type": "code",
   "execution_count": null,
   "id": "ef0a44ab",
   "metadata": {
    "pycharm": {
     "name": "#%%\n"
    }
   },
   "outputs": [],
   "source": []
  },
  {
   "cell_type": "code",
   "execution_count": 24,
   "id": "8897150e",
   "metadata": {
    "pycharm": {
     "name": "#%%\n"
    }
   },
   "outputs": [],
   "source": [
    "\n",
    "#datasets = [dataset.MERFISHDataSet(d, analysisHome='/fsx') for d in dataSetNames]"
   ]
  },
  {
   "cell_type": "code",
   "execution_count": 25,
   "id": "e22a9f62",
   "metadata": {
    "pycharm": {
     "name": "#%%\n"
    }
   },
   "outputs": [],
   "source": [
    "#bcDatabase = [d.load_dataframe_from_csv('barcodes', 'ExportBarcodes', subdirectory = 'region_0')\n",
    " #             for d in datasets]"
   ]
  },
  {
   "cell_type": "markdown",
   "id": "382ee2ca",
   "metadata": {
    "pycharm": {
     "name": "#%% md\n"
    }
   },
   "source": [
    "TotalCounts = [len(b) for b in bcDatabase]\n",
    "CountsPerFOV = [len(b)/len(np.unique(b['fov'])) for b in bcDatabase]\n",
    "print(TotalCounts)\n",
    "print(CountsPerFOV)"
   ]
  },
  {
   "cell_type": "markdown",
   "id": "d34ad87c",
   "metadata": {
    "pycharm": {
     "name": "#%% md\n"
    }
   },
   "source": [
    "# Plot Total Counts and average counts/fov"
   ]
  },
  {
   "cell_type": "markdown",
   "id": "f97f6abb",
   "metadata": {
    "pycharm": {
     "name": "#%% md\n"
    }
   },
   "source": [
    "plt.figure(figsize=(5, 5))\n",
    "plt.bar(x=dataSetNames, height=TotalCounts)\n",
    "plt.title('Total Counts for Sample')\n",
    "plt.xticks(rotation='vertical')\n",
    "plt.ylabel('Total transcript counts')"
   ]
  },
  {
   "cell_type": "markdown",
   "id": "8467b4ac",
   "metadata": {
    "pycharm": {
     "name": "#%% md\n"
    }
   },
   "source": [
    "plt.figure(figsize=(5, 5))\n",
    "plt.bar(x=dataSetNames, height=CountsPerFOV)\n",
    "plt.title('Average Transcript Counts/FOV')\n",
    "plt.xticks(rotation='vertical')\n",
    "plt.ylabel('Transcript counts/FOV')"
   ]
  },
  {
   "cell_type": "markdown",
   "id": "ff260110",
   "metadata": {
    "pycharm": {
     "name": "#%% md\n"
    }
   },
   "source": [
    "# Create dataframe to load bulk RNAseq and MERFISH Data"
   ]
  },
  {
   "cell_type": "code",
   "execution_count": 26,
   "id": "2bd72807",
   "metadata": {
    "pycharm": {
     "name": "#%%\n"
    }
   },
   "outputs": [
    {
     "ename": "NameError",
     "evalue": "name 'bcDatabase' is not defined",
     "output_type": "error",
     "traceback": [
      "\u001B[0;31m---------------------------------------------------------------------------\u001B[0m",
      "\u001B[0;31mNameError\u001B[0m                                 Traceback (most recent call last)",
      "Input \u001B[0;32mIn [26]\u001B[0m, in \u001B[0;36m<cell line: 1>\u001B[0;34m()\u001B[0m\n\u001B[1;32m      1\u001B[0m bcCounts \u001B[38;5;241m=\u001B[39m [pd\u001B[38;5;241m.\u001B[39mDataFrame(np\u001B[38;5;241m.\u001B[39mtranspose(np\u001B[38;5;241m.\u001B[39munique(bc[\u001B[38;5;124m'\u001B[39m\u001B[38;5;124mbarcode_id\u001B[39m\u001B[38;5;124m'\u001B[39m], return_counts\u001B[38;5;241m=\u001B[39m\u001B[38;5;28;01mTrue\u001B[39;00m)))\n\u001B[0;32m----> 2\u001B[0m             \u001B[38;5;28;01mfor\u001B[39;00m bc \u001B[38;5;129;01min\u001B[39;00m \u001B[43mbcDatabase\u001B[49m]\n\u001B[1;32m      4\u001B[0m cb1 \u001B[38;5;241m=\u001B[39m datasets[\u001B[38;5;241m0\u001B[39m]\u001B[38;5;241m.\u001B[39mget_codebook()\n\u001B[1;32m      5\u001B[0m \u001B[38;5;66;03m#cb2 = datasets[1].get_codebook()\u001B[39;00m\n",
      "\u001B[0;31mNameError\u001B[0m: name 'bcDatabase' is not defined"
     ]
    }
   ],
   "source": [
    "bcCounts = [pd.DataFrame(np.transpose(np.unique(bc['barcode_id'], return_counts=True)))\n",
    "            for bc in bcDatabase]\n",
    "\n",
    "cb1 = datasets[0].get_codebook()\n",
    "#cb2 = datasets[1].get_codebook()\n",
    "\n",
    "import os\n",
    "import numpy as np\n",
    "import re\n",
    "\n",
    "for d, b in zip(datasets, bcCounts):\n",
    "    for i in b.index:\n",
    "        tID = d.get_codebook()._data.iloc[i]['id']\n",
    "        # Handle blanks and missing IDs by setting FPKM to 0\n",
    "        if tID == -1 or tID == 'nan' or tID == '-1':\n",
    "            b.at[i,2] = 0\n",
    "        else:\n",
    "        # Handle tIDs in different formats (str vs integer)\n",
    "            if isinstance(tID, str) and not isinstance(exampleAbundance.isoformData.index[0], str):\n",
    "                tID = tID.split('.')[0] # In case version still included\n",
    "                tID = int(only_numerics(tID)) # Convert to numeric value\n",
    "            b.at[i, 2] = abundanceData.get_abundance_for_transcript_id(tID)\n",
    "            \n",
    "\n",
    "for d, b in zip(datasets, bcCounts):\n",
    "    b[0] = [d.get_codebook().get_name_for_barcode_index(i) for i in b[0]]\n",
    "    b.columns = ['Gene', 'MERFISH', 'FPKM']"
   ]
  },
  {
   "cell_type": "code",
   "execution_count": null,
   "id": "e08e4e83",
   "metadata": {
    "pycharm": {
     "name": "#%%\n"
    }
   },
   "outputs": [],
   "source": [
    "plt.figure(figsize=(5, 5))\n",
    "\n",
    "for i, b in enumerate(bcCounts):\n",
    "    plt.subplot(1, len(bcCounts), i+1)\n",
    "    \n",
    "    eB = b\n",
    "    plt.loglog(eB[eB['FPKM']>0.01]['FPKM']+0.0001, eB[eB['FPKM']>0.01]['MERFISH'] ,'.')\n",
    "\n",
    "    plt.xlabel('FPKM')\n",
    "    plt.ylabel('Copy number, MERFISH\\n(%s)' % dataSetNames[i][:20])\n",
    "    plt.title('r=%0.2f' %\n",
    "              np.corrcoef(np.log10(eB[eB['FPKM']>0.01]['FPKM']+0.0001), \n",
    "                          np.log10(eB[eB['FPKM']>0.01]['MERFISH']))[0,1])\n",
    "\n",
    "plt.tight_layout(pad=0.5)\n",
    "#plt.legend(['Unenriched', 'Female enriched', 'Male enriched'])\n",
    "plt.savefig('Correlation with bulk RNAseq.png')"
   ]
  },
  {
   "cell_type": "markdown",
   "id": "21bcfc05",
   "metadata": {
    "pycharm": {
     "name": "#%% md\n"
    }
   },
   "source": [
    "# Correlation between different datasets"
   ]
  },
  {
   "cell_type": "code",
   "execution_count": null,
   "id": "32b8d7ad",
   "metadata": {
    "pycharm": {
     "name": "#%%\n"
    }
   },
   "outputs": [],
   "source": [
    "for b in bcCounts:\n",
    "    b.index = b['Gene']"
   ]
  },
  {
   "cell_type": "code",
   "execution_count": null,
   "id": "9fc9b2ef",
   "metadata": {
    "pycharm": {
     "name": "#%%\n"
    }
   },
   "outputs": [],
   "source": [
    "plt.figure(figsize=(10,10))\n",
    ".loc[commonGenes]['MERFISH']/len(datasets[i].get_fovs())/\n",
    "                                 (b2.loc[commonGenes]['MERFISH']/len(datasets[j].get_fovs()))))))\n",
    "            plt.plot([10, 1e5], [10, 1e5])\n",
    "\n",
    "index = 0\n",
    "\n",
    "for j, b2 in enumerate(bcCounts):\n",
    "    for i, b in enumerate(bcCounts):\n",
    "        if i >= j:\n",
    "            commonGenes = b['Gene'][\n",
    "                    (b['Gene'].isin(b2['Gene'])) \n",
    "                    & ~b['Gene'].str.contains('Blank')].values\n",
    "            print(len(commonGenes))\n",
    "            plt.subplot(len(bcCounts), len(bcCounts), index+1)\n",
    "            plt.loglog(b.loc[commonGenes]['MERFISH']/\n",
    "                       len(datasets[i].get_fovs()), \n",
    "                       b2.loc[commonGenes]['MERFISH']/\n",
    "                       len(datasets[j].get_fovs()), '.')\n",
    "            if i == j:\n",
    "                plt.xlabel(datasets[i].dataSetName[:13])\n",
    "                plt.ylabel(datasets[j].dataSetName[:13])\n",
    "            plt.title('r=%0.2f, ratio=%0.2f' %\n",
    "                      (np.corrcoef(np.log10(b2.loc[commonGenes]['MERFISH']), \n",
    "                                  np.log10(b.loc[commonGenes]['MERFISH']))[0,1],\n",
    "                       np.median((b\n",
    "        index += 1\n",
    "\n",
    "plt.tight_layout(pad=0.5)\n",
    "plt.savefig(\"Correlation for biological replicates.png\")"
   ]
  },
  {
   "cell_type": "code",
   "execution_count": null,
   "id": "af8b6d50",
   "metadata": {
    "pycharm": {
     "name": "#%%\n"
    }
   },
   "outputs": [],
   "source": []
  },
  {
   "cell_type": "code",
   "execution_count": null,
   "id": "d20f3108",
   "metadata": {
    "pycharm": {
     "name": "#%%\n"
    }
   },
   "outputs": [],
   "source": []
  },
  {
   "cell_type": "code",
   "execution_count": null,
   "id": "37050adc",
   "metadata": {
    "pycharm": {
     "name": "#%%\n"
    }
   },
   "outputs": [],
   "source": []
  },
  {
   "cell_type": "code",
   "execution_count": null,
   "id": "decff318",
   "metadata": {
    "pycharm": {
     "name": "#%%\n"
    }
   },
   "outputs": [],
   "source": []
  }
 ],
 "metadata": {
  "interpreter": {
   "hash": "b0fa6594d8f4cbf19f97940f81e996739fb7646882a419484c72d19e05852a7e"
  },
  "kernelspec": {
   "display_name": "Python 3.9.12 64-bit",
   "language": "python",
   "name": "python3"
  },
  "language_info": {
   "codemirror_mode": {
    "name": "ipython",
    "version": 3
   },
   "file_extension": ".py",
   "mimetype": "text/x-python",
   "name": "python",
   "nbconvert_exporter": "python",
   "pygments_lexer": "ipython3",
   "version": "3.9.13"
  }
 },
 "nbformat": 4,
 "nbformat_minor": 5
}