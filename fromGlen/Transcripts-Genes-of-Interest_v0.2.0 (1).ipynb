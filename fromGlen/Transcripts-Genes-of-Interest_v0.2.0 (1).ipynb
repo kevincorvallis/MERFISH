{
 "cells": [
  {
   "cell_type": "markdown",
   "id": "629e172b",
   "metadata": {
    "pycharm": {
     "name": "#%% md\n"
    }
   },
   "source": [
    "# Transcripts-Genes-of-Interest v0.2.0"
   ]
  },
  {
   "cell_type": "code",
   "execution_count": 1,
   "id": "e87063a8",
   "metadata": {
    "pycharm": {
     "name": "#%%\n"
    }
   },
   "outputs": [],
   "source": [
    "import sys\n",
    "!{sys.executable} -m pip -q list "
   ]
  },
  {
   "cell_type": "code",
   "execution_count": 2,
   "id": "9cfa11a4",
   "metadata": {
    "pycharm": {
     "name": "#%%\n"
    }
   },
   "outputs": [
    {
     "name": "stderr",
     "output_type": "stream",
     "text": [
      "/var/folders/p2/v_b4j5s529d3dckzf5stfy4h0000gn/T/ipykernel_20893/1480666092.py:1: DeprecationWarning: Importing display from IPython.core.display is deprecated since IPython 7.14, please import from IPython display\n",
      "  from IPython.core.display import display, HTML\n"
     ]
    },
    {
     "data": {
      "text/html": [
       "<style>.container { width:98% !important; maxHeight: 5000}</style>"
      ],
      "text/plain": [
       "<IPython.core.display.HTML object>"
      ]
     },
     "metadata": {},
     "output_type": "display_data"
    }
   ],
   "source": [
    "from IPython.core.display import display, HTML\n",
    "display(HTML(\"<style>.container { width:98% !important; maxHeight: 5000}</style>\"))"
   ]
  },
  {
   "cell_type": "code",
   "execution_count": 4,
   "id": "55cbefb4",
   "metadata": {
    "pycharm": {
     "name": "#%%\n"
    }
   },
   "outputs": [
    {
     "name": "stdout",
     "output_type": "stream",
     "text": [
      "MERFISH Data Correlation with RNAseq----Fast (2).ipynb\n",
      "Transcripts-Genes-of-Interest_v0.2.0 (1).ipynb\n",
      "UMAP-Spatial-Heatmap-v0.3.1.ipynb\n"
     ]
    }
   ],
   "source": []
  },
  {
   "cell_type": "code",
   "execution_count": 4,
   "id": "f7ff7bac",
   "metadata": {
    "collapsed": false,
    "pycharm": {
     "name": "#%%\n"
    }
   },
   "outputs": [],
   "source": [
    "import pandas"
   ]
  },
  {
   "cell_type": "code",
   "execution_count": 3,
   "id": "e4501ce3",
   "metadata": {
    "pycharm": {
     "name": "#%%\n"
    }
   },
   "outputs": [
    {
     "name": "stderr",
     "output_type": "stream",
     "text": [
      "DEPRECATION: Configuring installation scheme with distutils config files is deprecated and will no longer work in the near future. If you are using a Homebrew or Linuxbrew Python, please see discussion at https://github.com/Homebrew/homebrew-core/issues/76621\n"
     ]
    },
    {
     "name": "stdout",
     "output_type": "stream",
     "text": [
      "Requirement already satisfied: observable_jupyter in /opt/homebrew/lib/python3.9/site-packages (0.1.12)\n"
     ]
    },
    {
     "name": "stderr",
     "output_type": "stream",
     "text": [
      "DEPRECATION: Configuring installation scheme with distutils config files is deprecated and will no longer work in the near future. If you are using a Homebrew or Linuxbrew Python, please see discussion at https://github.com/Homebrew/homebrew-core/issues/76621\n",
      "WARNING: There was an error checking the latest version of pip.\n",
      "DEPRECATION: Configuring installation scheme with distutils config files is deprecated and will no longer work in the near future. If you are using a Homebrew or Linuxbrew Python, please see discussion at https://github.com/Homebrew/homebrew-core/issues/76621\n"
     ]
    },
    {
     "name": "stdout",
     "output_type": "stream",
     "text": [
      "Requirement already satisfied: pandas in /opt/homebrew/lib/python3.9/site-packages (1.4.2)\n",
      "Requirement already satisfied: numpy>=1.20.0 in /opt/homebrew/lib/python3.9/site-packages (from pandas) (1.22.3)\n",
      "Requirement already satisfied: pytz>=2020.1 in /opt/homebrew/lib/python3.9/site-packages (from pandas) (2022.1)\n",
      "Requirement already satisfied: python-dateutil>=2.8.1 in /opt/homebrew/lib/python3.9/site-packages (from pandas) (2.8.2)\n",
      "Requirement already satisfied: six>=1.5 in /opt/homebrew/lib/python3.9/site-packages (from python-dateutil>=2.8.1->pandas) (1.16.0)\n"
     ]
    },
    {
     "name": "stderr",
     "output_type": "stream",
     "text": [
      "DEPRECATION: Configuring installation scheme with distutils config files is deprecated and will no longer work in the near future. If you are using a Homebrew or Linuxbrew Python, please see discussion at https://github.com/Homebrew/homebrew-core/issues/76621\n",
      "WARNING: There was an error checking the latest version of pip.\n",
      "DEPRECATION: Configuring installation scheme with distutils config files is deprecated and will no longer work in the near future. If you are using a Homebrew or Linuxbrew Python, please see discussion at https://github.com/Homebrew/homebrew-core/issues/76621\n"
     ]
    },
    {
     "name": "stdout",
     "output_type": "stream",
     "text": [
      "Requirement already satisfied: embed in /opt/homebrew/lib/python3.9/site-packages (0.1.0)\n"
     ]
    },
    {
     "name": "stderr",
     "output_type": "stream",
     "text": [
      "DEPRECATION: Configuring installation scheme with distutils config files is deprecated and will no longer work in the near future. If you are using a Homebrew or Linuxbrew Python, please see discussion at https://github.com/Homebrew/homebrew-core/issues/76621\n",
      "WARNING: There was an error checking the latest version of pip.\n"
     ]
    }
   ],
   "source": []
  },
  {
   "cell_type": "code",
   "execution_count": 5,
   "id": "0f5a89b2",
   "metadata": {
    "pycharm": {
     "name": "#%%\n"
    }
   },
   "outputs": [],
   "source": [
    "import pandas as pd\n",
    "import zlib, json, base64\n",
    "from observable_jupyter import embed"
   ]
  },
  {
   "cell_type": "code",
   "execution_count": 6,
   "id": "29485fa7",
   "metadata": {
    "pycharm": {
     "name": "#%%\n"
    }
   },
   "outputs": [],
   "source": [
    "def json_zip(j):\n",
    "    zip_json_string = base64.b64encode(\n",
    "        zlib.compress(\n",
    "            json.dumps(j).encode('utf-8')\n",
    "        )\n",
    "    ).decode('ascii')\n",
    "\n",
    "    return zip_json_string"
   ]
  },
  {
   "cell_type": "code",
   "execution_count": null,
   "id": "93819cd5",
   "metadata": {
    "pycharm": {
     "name": "#%%\n"
    }
   },
   "outputs": [],
   "source": [
    "# !aws s3 ls s3://vz-analyzed-merfish/MsKidney_Malesham_WUSTL_VS5_A1_CP_3-5-2021/ExportBarcodes/region_0/barcodes.csv"
   ]
  },
  {
   "cell_type": "code",
   "execution_count": null,
   "id": "bc9a3ca4",
   "metadata": {
    "pycharm": {
     "name": "#%%\n"
    }
   },
   "outputs": [],
   "source": [
    "%%time\n",
    "filepath = 's3://vz-analyzed-merfish/MsKidney_Malesham_WUSTL_VS5_A1_CP_3-5-2021/ExportBarcodes/region_0/barcodes.csv'\n",
    "barcodes = pd.read_csv(filepath, index_col=0)\n",
    "barcodes.shape\n",
    "\n",
    "transcripts = barcodes[barcodes.gene.str.contains('Blank') == False]\n",
    "transcripts.shape"
   ]
  },
  {
   "cell_type": "markdown",
   "id": "f6974096",
   "metadata": {
    "pycharm": {
     "name": "#%% md\n"
    }
   },
   "source": [
    "### Top Expressing Genes"
   ]
  },
  {
   "cell_type": "code",
   "execution_count": null,
   "id": "191b251b",
   "metadata": {
    "pycharm": {
     "name": "#%%\n"
    }
   },
   "outputs": [],
   "source": [
    "len(transcripts.gene.unique().tolist())"
   ]
  },
  {
   "cell_type": "code",
   "execution_count": null,
   "id": "f0b18c23",
   "metadata": {
    "pycharm": {
     "name": "#%%\n"
    }
   },
   "outputs": [],
   "source": [
    "transcripts.gene.value_counts(ascending=False).head(20)/1000"
   ]
  },
  {
   "cell_type": "markdown",
   "id": "93657708",
   "metadata": {
    "pycharm": {
     "name": "#%% md\n"
    }
   },
   "source": [
    "# Choose Colors\n",
    "https://matplotlib.org/stable/gallery/color/named_colors.html"
   ]
  },
  {
   "cell_type": "code",
   "execution_count": null,
   "id": "03f113d9",
   "metadata": {
    "pycharm": {
     "name": "#%%\n"
    }
   },
   "outputs": [],
   "source": [
    "from IPython.display import Image\n",
    "from IPython.core.display import HTML \n",
    "Image(url= \"https://matplotlib.org/stable/_images/sphx_glr_named_colors_003.png\")"
   ]
  },
  {
   "cell_type": "code",
   "execution_count": null,
   "id": "7948d53a",
   "metadata": {
    "pycharm": {
     "name": "#%%\n"
    }
   },
   "outputs": [],
   "source": [
    "gene_colors = {\n",
    "    'Acsm3': 'green', \n",
    "    'Spp1': 'blue', \n",
    "    'Slc13a3': 'black', \n",
    "    'Agt': 'chartreuse',\n",
    "    'Plvap': 'grey', \n",
    "    'Cndp2': 'orange', \n",
    "}"
   ]
  },
  {
   "cell_type": "markdown",
   "id": "a98385d4",
   "metadata": {
    "pycharm": {
     "name": "#%% md\n"
    }
   },
   "source": [
    "### Save Transcripts Viz"
   ]
  },
  {
   "cell_type": "code",
   "execution_count": null,
   "id": "96bf7e96",
   "metadata": {
    "pycharm": {
     "name": "#%%\n"
    }
   },
   "outputs": [],
   "source": [
    "keep_genes = gene_colors.keys()\n",
    "transcripts_keep = transcripts[transcripts.gene.isin(keep_genes)]\n",
    "transcripts_keep['-global_y'] = -transcripts_keep['global_y']\n",
    "transcripts_keep['name'] = transcripts_keep['gene']\n",
    "transcripts_keep['position'] = transcripts_keep[['global_x', 'global_y']].round(2).values.tolist()\n",
    "transcripts_viz = transcripts_keep[['name', 'position']]\n",
    "\n",
    "print('number of transcripts to be visualized (in millions):', transcripts_viz.shape[0]/1e6)\n",
    "\n",
    "transcripts_string_zip = json_zip(transcripts_viz.to_dict('records'))"
   ]
  },
  {
   "cell_type": "markdown",
   "id": "f5c57cb1",
   "metadata": {
    "pycharm": {
     "name": "#%% md\n"
    }
   },
   "source": [
    "# Visualize Transcripts for Selected Genes"
   ]
  },
  {
   "cell_type": "code",
   "execution_count": null,
   "id": "48a48bc1",
   "metadata": {
    "pycharm": {
     "name": "#%%\n"
    }
   },
   "outputs": [],
   "source": [
    "embed('@cornhundred/gene-transcripts-jupyter-v0-2-0', \n",
    "      cells=['tmp2', 'dashboard'], \n",
    "      inputs={\n",
    "          'tmp1': transcripts_string_zip,\n",
    "          'radius_min_pixels': 1.0,\n",
    "          'height': 1000, \n",
    "          'gene_colors': gene_colors, \n",
    "          'min_zoom': -6\n",
    "      }, \n",
    "      display_logo=False)"
   ]
  },
  {
   "cell_type": "code",
   "execution_count": null,
   "id": "8aa2c8c0",
   "metadata": {
    "pycharm": {
     "name": "#%%\n"
    }
   },
   "outputs": [],
   "source": []
  }
 ],
 "metadata": {
  "interpreter": {
   "hash": "b0fa6594d8f4cbf19f97940f81e996739fb7646882a419484c72d19e05852a7e"
  },
  "kernelspec": {
   "display_name": "Python 3.9.12 64-bit",
   "language": "python",
   "name": "python3"
  },
  "language_info": {
   "codemirror_mode": {
    "name": "ipython",
    "version": 3
   },
   "file_extension": ".py",
   "mimetype": "text/x-python",
   "name": "python",
   "nbconvert_exporter": "python",
   "pygments_lexer": "ipython3",
   "version": "3.9.13"
  }
 },
 "nbformat": 4,
 "nbformat_minor": 5
}
